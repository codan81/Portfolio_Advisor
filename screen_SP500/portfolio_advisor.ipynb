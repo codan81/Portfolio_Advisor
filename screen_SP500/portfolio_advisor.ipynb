{
 "cells": [
  {
   "cell_type": "code",
   "execution_count": 12,
   "metadata": {
    "id": "t_3iZkcseOYp"
   },
   "outputs": [],
   "source": [
    "from tqdm.notebook import tqdm\n",
    "import alpaca_trade_api as tradeapi\n",
    "from MCForecastTools import MCSimulation\n",
    "import matplotlib.pyplot as plt\n",
    "import ipywidgets as widgets\n",
    "from ipywidgets import Button, Layout\n",
    "from dotenv import load_dotenv\n",
    "from datetime import datetime\n",
    "from pathlib import Path\n",
    "from time import sleep\n",
    "import pandas as pd\n",
    "import os"
   ]
  },
  {
   "cell_type": "code",
   "execution_count": 13,
   "metadata": {
    "id": "FUUL-MhDd_xd"
   },
   "outputs": [],
   "source": [
    "# alpaca_api = 0\n",
    "\n",
    "# Alpaca connection setup \n",
    "\n",
    "def app_init():\n",
    "    global alpaca_api\n",
    "    load_dotenv()\n",
    "\n",
    "    sp500_tickers_df = pd.read_csv(Path(\"dataset/symbols.csv\"), header=None)\n",
    "    #display(sp500_tickers_df.head(3))\n",
    "    #display(sp500_tickers_df.tail(3))\n",
    "    sp500_tickers = sp500_tickers_df.loc[:,0]\n",
    "\n",
    "    # Setting the variables for the Alpaca API and secret keys\n",
    "    alpaca_api_key = os.getenv('ALPACA_API_KEY')\n",
    "    alpaca_api_secret_key = os.getenv('ALPACA_SECRET_KEY')\n",
    "\n",
    "    #display(type(alpaca_api_key))\n",
    "    #display(type(alpaca_api_secret_key))\n",
    "\n",
    "    # Create the Alpaca tradeapi.REST object\n",
    "    alpaca_api = tradeapi.REST(alpaca_api_key, alpaca_api_secret_key, api_version = \"v2\")\n",
    "\n",
    "    return(sp500_tickers, alpaca_api)\n"
   ]
  },
  {
   "cell_type": "code",
   "execution_count": 14,
   "metadata": {},
   "outputs": [],
   "source": [
    "# If date range is dropdown-selectable, then will use given end date,\n",
    "# calculate back three years to get start_date\n",
    "# instead of relying on values from app_init()\n",
    "\n",
    "def get_ticker_prices(tickers, num_days=1000):\n",
    "    \"\"\"\n",
    "    Use Alpacas to get ticker price data.\n",
    "\n",
    "    Parameters:\n",
    "        tickers: list of stock tickers\n",
    "        days: days of historical data to get (limit 1000)\n",
    "\n",
    "    Return value:  DataFrame of ticker price data\n",
    "    \"\"\" \n",
    "    \n",
    "    # Set start and end datetimes between now and num_days ago\n",
    "\n",
    "    timeframe=\"1D\"\n",
    "    today=pd.Timestamp.now()\n",
    "    start_date = pd.Timestamp(today - pd.Timedelta(days=num_days), tz=\"America/New_York\").isoformat()\n",
    "    end_date = pd.Timestamp(today).isoformat()\n",
    "    # Set number of rows to three years of days\n",
    "    limit_rows = 1000\n",
    "\n",
    "    # Get 3 years’ worth of historical price data for Microsoft and Coca-Cola\n",
    "    prices_df = alpaca_api.get_barset(\n",
    "        tickers,\n",
    "        timeframe,\n",
    "        start=start_date,\n",
    "        end=end_date,\n",
    "        limit=limit_rows\n",
    "    ).df\n",
    "\n",
    "    return(prices_df)\n",
    "   "
   ]
  },
  {
   "cell_type": "code",
   "execution_count": 15,
   "metadata": {},
   "outputs": [],
   "source": [
    "# Function loading historical data for analysis\n",
    "\n",
    "def load_data():\n",
    "    #Loading 3 year data from Alpaca\n",
    "    \n",
    "    global start_date\n",
    "    # getting prices for selected stocks \n",
    "    chosen_tickers_df=get_ticker_prices(screened_ticker_list, 1095)\n",
    "\n",
    "    # Slicing the dataframe to chose only closing prices\n",
    "    closing_prices_df=chosen_tickers_df.loc[:, (slice(None), 'close')]\n",
    "    closing_prices_df.columns = closing_prices_df.columns.droplevel(-1)\n",
    "\n",
    "    #droping time component of the date index ans NAs\n",
    "    closing_prices_df.index=pd.to_datetime(closing_prices_df.index).strftime(\"%Y-%m-%d\")\n",
    "    closing_prices_df.dropna()\n",
    "    return (closing_prices_df)\n",
    " "
   ]
  },
  {
   "cell_type": "code",
   "execution_count": 16,
   "metadata": {
    "id": "FUUL-MhDd_xd"
   },
   "outputs": [],
   "source": [
    "# https://stackoverflow.com/questions/48775841/pandas-ema-not-matching-the-stocks-ema\n",
    "# ta.ema shown at the end of that page.\n",
    "\n",
    "\n",
    "def add_EMA(price, day):\n",
    "    return price.ewm(span=day).mean()\n",
    "\n",
    "# function to check for EMA crossing\n",
    "def check_EMA_crossing(df):\n",
    "    # condition 1: EMA18 is higher than EMA50 at the last trading day\n",
    "    cond_1 = df.iloc[-1]['EMA18'] > df.iloc[-1]['EMA50']\n",
    "    # condition 2: EMA18 is lower than EMA50 the previous day\n",
    "    cond_2 = df.iloc[-2]['EMA18'] < df.iloc[-2]['EMA50']\n",
    "    # condition 3: to filter out stocks with less than 50 candles\n",
    "    cond_3 = len(df.index) > 50 \n",
    "    # will return True if all 3 conditions are met\n",
    "    return (cond_1 and cond_2 and cond_3)"
   ]
  },
  {
   "cell_type": "code",
   "execution_count": 17,
   "metadata": {
    "id": "FUUL-MhDd_xd"
   },
   "outputs": [],
   "source": [
    "# If date range is dropdown-selectable, then need to pass start and end dates\n",
    "# to get_ticker_prices, instead of relying on values from app_init()\n",
    "\n",
    "def screen_tickers(ticker_list):\n",
    "    \"\"\"\n",
    "    Screen S&P tickers by Exponential Moving Average\n",
    "    \n",
    "    Parameters: ticker_list \n",
    "    \n",
    "    Returns: the screened list of tickers\n",
    "    \"\"\"\n",
    "    \n",
    "    # Preliminary ticker list after screening based on EMA\n",
    "    # Step 1: get all sp500 prices\n",
    "    \n",
    "    sp500_df = get_ticker_prices(ticker_list[0:1], 252)\n",
    "    done = False\n",
    "    ticker_count = len(ticker_list) -1\n",
    "    start=1\n",
    "    end=101\n",
    "    # each dataframe has 100 tickers, concat them\n",
    "    printmd(\"## Getting Alpacas ticker data:\")\n",
    "\n",
    "    while not done:\n",
    "        partial_df = get_ticker_prices(ticker_list[start:end], 252)\n",
    "        sp500_df = pd.concat([sp500_df, partial_df], axis=1)\n",
    "        start +=100\n",
    "        end += 100\n",
    "        if end >= 602:\n",
    "            done = True\n",
    "\n",
    "    #display(sp500_df)\n",
    "    \n",
    "    screened_list = [] \n",
    "    stock_list = ticker_list\n",
    "\n",
    "    printmd(f\"## Screening {ticker_count} S&P 500 tickers:\")\n",
    "    for each_stock in tqdm(stock_list, leave=False):\n",
    "        ##\n",
    "        ticker_df = sp500_df[each_stock]\n",
    "        close_df = pd.DataFrame(columns = ['close'])\n",
    "        close_df['close'] = ticker_df['close']\n",
    "        ##\n",
    "        \n",
    "        # Step 2: add technical indicators (in this case EMA)\n",
    "        close_df['EMA18']=add_EMA(close_df['close'],18)\n",
    "        close_df['EMA50']=add_EMA(close_df['close'],50)\n",
    "        close_df['EMA100']=add_EMA(close_df['close'],100)\n",
    "        # if all 3 conditions are met, add stock into screened list\n",
    "        if check_EMA_crossing(close_df):\n",
    "            screened_list.append(each_stock)\n",
    "        #sleep(0.2)\n",
    "\n",
    "    return (screened_list)\n"
   ]
  },
  {
   "cell_type": "code",
   "execution_count": 18,
   "metadata": {
    "id": "FUUL-MhDd_xd"
   },
   "outputs": [],
   "source": [
    "def risk_return_analysis():\n",
    "    # Loading data\n",
    "    closing_prices_df=load_data()\n",
    "    # display(closing_prices_df.head())\n",
    "    trading_year=252\n",
    "    \n",
    "    # Normalizing prices and Plotting the normalized closing prices\n",
    "    for i in closing_prices_df.columns:\n",
    "        closing_prices_df.loc[:,i]=closing_prices_df.loc[:,i]/closing_prices_df[i].iloc[0]\n",
    "    # print(\"Price chart comparison for chosen tickers\")\n",
    "    fig, axes = plt.subplots(2,2)\n",
    "#    closing_prices_df.plot(title=\"Normalized price plot\",figsize=(10,5),ax=axes[1,0])\n",
    "\n",
    "    # Calculating daily returns\n",
    "    daily_returns_df=closing_prices_df.pct_change().dropna()\n",
    "    # display(daily_returns_df.head())\n",
    "    # Visualizing Daily Returns in line and box subplots\n",
    "\n",
    "    daily_returns_df.plot(kind=\"line\",title=\"Daily Returns forselected stocks in 3 years\",xlabel=\"Date\",ylabel=\"Daily returns\",figsize=(20,10),ax=axes[0,0])\n",
    "    daily_returns_df.plot(kind=\"box\",title=\"Daily return distribution\",figsize=(20,10),ax=axes[0,1])\n",
    "\n",
    "    # Calculate and plot the cumulative returns\n",
    "    # Reviewing the last 5 rows of the cumulative returns DataFrame\n",
    "\n",
    "    cumulative_returns=(1+ daily_returns_df).cumprod()\n",
    "    cumulative_returns.tail()\n",
    "    cumulative_returns.plot(title=\"Cumulative returns for selected stocks in 3 years\",ax=axes[1,0])\n",
    "\n",
    "    std_dev=closing_prices_df.std()\n",
    "    #print(f\"Calculated standard deviation is \\n{std_dev}\")\n",
    "\n",
    "    # Calculating and sort the annualized standard deviation for 252 trading days \n",
    "    # Reviewing the annual standard deviations smallest to largest\n",
    "    \n",
    "    annualized_std_dev=daily_returns_df.std()* trading_year **1/2\n",
    "    annualized_std_dev=annualized_std_dev.sort_values()\n",
    "    #print(f\"Calculated annualized standard deviation is \\n{annualized_std_dev}\")\n",
    "\n",
    "    # Output to the user as less volatile stocks\n",
    "\n",
    "    min_3_annualized_st_dev=annualized_std_dev.iloc[0:3]\n",
    "    #print(f\" The 3 less volatile stocks based on annualized standard deviation \\n{min_3_annualized_st_dev}\")\n",
    "    #print(\"The 3 less volatile stocks based on annualized standard deviation:\")\n",
    "    least_volatile_df = pd.DataFrame(min_3_annualized_st_dev)\n",
    "    #df = least_volatile_df.rename(columns={'0':'st_dev'})\n",
    "    least_volatile_df.columns = [''] * len(least_volatile_df.columns)\n",
    "    #display(least_volatile_df)\n",
    "    \n",
    "    #Calculating annual average return\n",
    "    annual_avg_return=daily_returns_df.mean() * trading_year\n",
    "\n",
    "    # Shows 3 best performing stocks in terms of risk/returns\n",
    "\n",
    "    # Calculate the annualized Sharpe Ratios for each\n",
    "    # Review the Sharpe ratios sorted lowest to highest\n",
    "    sharpe_ratio=annual_avg_return/annualized_std_dev\n",
    "    sharpe_ratio=sharpe_ratio.sort_values(ascending=False)\n",
    "    sharpe_ratio.plot.bar(title=\"Sharpe ratio barchart for selected stocks\",ax=axes[1,1])\n",
    "    best3_returns_per_risk=sharpe_ratio.iloc[0:3]\n",
    "    #print(f\" The best performing 3 stocks based on sharpe ratio \\n{best3_returns_per_risk}\")\n",
    "    #print(\"The best performing 3 stocks based on sharpe ratio\")\n",
    "    best_risk_df = pd.DataFrame(best3_returns_per_risk)\n",
    "    best_risk_df.columns = [''] * len(best_risk_df.columns)\n",
    "    #display(best_risk_df)\n",
    "    \n",
    "    #Creating an optimal list of tickers\n",
    "    optimal_tickers = []\n",
    "    optimal_tickers.append(best3_returns_per_risk.index[0])\n",
    "    optimal_tickers.append(best3_returns_per_risk.index[1])\n",
    "    optimal_tickers.append(best3_returns_per_risk.index[2])\n",
    "\n",
    "\n",
    "    #display(test_df)\n",
    "    plt.show()\n",
    "    printmd(\"---\")\n",
    "    printmd(\"### The 3 less volatile stocks based on annualized standard deviation:\")\n",
    "    display(least_volatile_df)\n",
    "    printmd(\"### The best performing 3 stocks based on sharpe ratio:\")\n",
    "    display(best_risk_df)\n",
    "\n",
    "    return(optimal_tickers)\n",
    "\n",
    "\n"
   ]
  },
  {
   "cell_type": "code",
   "execution_count": 19,
   "metadata": {},
   "outputs": [],
   "source": [
    "# Eventually these belong in the app_init() function\n",
    "\n",
    "# Setting up weight dictionaries \n",
    "MC_median_df_dict = {}\n",
    "MC_sim_df_dict = {}\n",
    "\n",
    "\n",
    "# weights_dict = {\n",
    "#     0:[.33,.33,.33],\n",
    "#     1:[.10,.30,.60],\n",
    "#     2:[.60,.30,.10],\n",
    "#     3:[.20,.40,.40],\n",
    "#     4:[.40,.40,.20],\n",
    "#     5:[.20,.60,.20],  \n",
    "#     6:[.20,.50,.30],\n",
    "#     7:[.30,.20,.50]\n",
    "# }\n",
    "weights_dict3 = {0:[.33,.33,.33],1:[.10,.30,.60],2:[.60,.30,.10],3:[.20,.40,.40],4:[.40,.40,.20],5:[.20,.60,.20],6:[.20,.50,.30],7:[.30,.20,.50]}\n",
    "weights_dict2 = {0:[.50,.50],1:[.40,.60],2:[.60,.40],3:[.30,.70],4:[.70,.30],5:[.20,.80],6:[.80,.20]}\n",
    "weights_dict1 = {0:[1.0]}\n",
    "weights_list = [weights_dict1, weights_dict2, weights_dict3]"
   ]
  },
  {
   "cell_type": "code",
   "execution_count": 20,
   "metadata": {},
   "outputs": [],
   "source": [
    "# Function generating MC simulations and finding median\n",
    "def run_MC(tickers_df, sim_duration, sim_count, weights_dict):\n",
    "    global MC_median_df_dict\n",
    "    \n",
    "    for i in range(len(weights_dict)):\n",
    "        MC_sim_config = MCSimulation(\n",
    "            portfolio_data = tickers_df,\n",
    "            weights = weights_dict[i],\n",
    "            num_simulation = sim_count,\n",
    "            num_trading_days = sim_duration\n",
    "        )\n",
    "\n",
    "        MC_sim = MC_sim_config.calc_cumulative_return()\n",
    "        MC_sim_median = MC_sim.median(axis=1)\n",
    "        MC_median_df_dict[i] = MC_sim_median\n",
    "        \n",
    "    return(MC_sim_config)\n"
   ]
  },
  {
   "cell_type": "code",
   "execution_count": 21,
   "metadata": {},
   "outputs": [],
   "source": [
    "# The start of the application\n",
    "\n",
    "def main():\n",
    "    global weights_dict\n",
    "    global screened_ticker_list\n",
    "    \n",
    "    \n",
    "    plot_output = widgets.Output()\n",
    "    \n",
    "    # Get all sp500 tickers\n",
    "    ticker_list, alpaca_api = app_init()\n",
    "\n",
    "    # Run screening to get preferred short list\n",
    "    screened_ticker_list = screen_tickers(ticker_list)\n",
    "    \n",
    "    # For Demo, if subset of stocks is less than 3, the application might have to use sample data \n",
    "    if len(screened_ticker_list) < 3:\n",
    "        printmd(\"### &emsp; Due to market conditions and screening method, using demo list of tickers. Please see README\")\n",
    "        screened_ticker_list = ['AEE', 'DISCK', 'NEM', 'NLSN', 'WYNN']\n",
    "\n",
    "    # risk_return_analysis uses screened_ticker_list globally\n",
    "    screened_ticker_list = risk_return_analysis()\n",
    "    \n",
    "    if len(screened_ticker_list) < 3:\n",
    "        weights_dict = weights_list[len(screened_ticker_list) -1]\n",
    "    else:\n",
    "        weights_dict = weights_dict3\n",
    "\n",
    "    #display(print(\"weights_dict: \", weights_dict))\n",
    "\n",
    "    #display(screened_ticker_list)\n",
    "    # Analyze to reduce short list to optimal list\n",
    "    # optimal_ticker_list = analyze_tickers(screened_ticker_list)\n",
    "\n",
    "    # until analyze_tickers() exists, take just first three of list\n",
    "    #test_list = screened_ticker_list[:3]\n",
    "    #screened_df = get_ticker_prices(optimal_ticker_list, 252)\n",
    "    optimal_df = get_ticker_prices(screened_ticker_list, 1000)\n",
    "    \n",
    "    printmd(\"---\")\n",
    "    printmd(f\"## Running {len(weights_dict)} Monte Carlo simulations, varying weights for portfolio {screened_ticker_list}:\")\n",
    "    MC_sim_class = run_MC(optimal_df, MC_sim_duration, MC_sim_count, weights_dict)\n",
    "\n",
    "    fig, axes = plt.subplots(1,3, figsize=(25,10))\n",
    "    with plot_output:\n",
    "        for key in MC_median_df_dict:\n",
    "            MC_median_df_dict[key].plot(ax=axes[0], legend=True, label=str(weights_dict[key]), title=\"Median cumulative returns by security weights\")\n",
    "        \n",
    "        \n",
    "        max_value_column=pd.DataFrame(MC_median_df_dict).iloc[-1].idxmax(axis=1)\n",
    "        label_list = []\n",
    "        for i in range(len(screened_ticker_list)):\n",
    "            #print(screened_ticker_list[i] + \" \" + str(int(weights_dict3[max_value_column][i]  * 100)) + \"%\")\n",
    "            label_list.append(screened_ticker_list[i] + \" \" + str(int(weights_dict3[max_value_column][i]  * 100)) + \"%\")\n",
    "\n",
    "        #print(label_list)\n",
    "        ax = pd.DataFrame(weights_dict3[max_value_column]).plot.pie(ax=axes[1],y=0,title='Best weights for the curent selection will be', labels=label_list)\n",
    "        ax.legend(loc='upper left')\n",
    "        \n",
    "        MC_sim_dist_plot = MC_sim_class.plot_distribution()\n",
    "        \n",
    "        plt.show()\n",
    "\n",
    "    display(plot_output)    \n"
   ]
  },
  {
   "cell_type": "code",
   "execution_count": 22,
   "metadata": {},
   "outputs": [
    {
     "data": {
      "text/markdown": [
       "---"
      ],
      "text/plain": [
       "<IPython.core.display.Markdown object>"
      ]
     },
     "metadata": {},
     "output_type": "display_data"
    },
    {
     "data": {
      "text/markdown": [
       "# <font color='blue'>Portfolio Advisor:</font>"
      ],
      "text/plain": [
       "<IPython.core.display.Markdown object>"
      ]
     },
     "metadata": {},
     "output_type": "display_data"
    },
    {
     "data": {
      "text/markdown": [
       "## &emsp; Select a portfolio by screening S&P 500 by EWMA, filtering with TA"
      ],
      "text/plain": [
       "<IPython.core.display.Markdown object>"
      ]
     },
     "metadata": {},
     "output_type": "display_data"
    },
    {
     "data": {
      "text/markdown": [
       "## &emsp; &emsp; &emsp; &emsp; and running Monte Carlo simulations to security weights."
      ],
      "text/plain": [
       "<IPython.core.display.Markdown object>"
      ]
     },
     "metadata": {},
     "output_type": "display_data"
    },
    {
     "data": {
      "text/markdown": [
       "---"
      ],
      "text/plain": [
       "<IPython.core.display.Markdown object>"
      ]
     },
     "metadata": {},
     "output_type": "display_data"
    },
    {
     "data": {
      "text/markdown": [
       "## Choose duration for Monte Carlo simulations:"
      ],
      "text/plain": [
       "<IPython.core.display.Markdown object>"
      ]
     },
     "metadata": {},
     "output_type": "display_data"
    },
    {
     "data": {
      "application/vnd.jupyter.widget-view+json": {
       "model_id": "f23030c92bbe46eca60ef022c2d40257",
       "version_major": 2,
       "version_minor": 0
      },
      "text/plain": [
       "Dropdown(options=('1 year', '2 years', '3 years'), value='1 year')"
      ]
     },
     "metadata": {},
     "output_type": "display_data"
    },
    {
     "data": {
      "text/markdown": [
       "## Choose interations for Monte Carlo simulations:"
      ],
      "text/plain": [
       "<IPython.core.display.Markdown object>"
      ]
     },
     "metadata": {},
     "output_type": "display_data"
    },
    {
     "data": {
      "application/vnd.jupyter.widget-view+json": {
       "model_id": "1d6132a6a9f7497fbfcc846cce19adc3",
       "version_major": 2,
       "version_minor": 0
      },
      "text/plain": [
       "Dropdown(options=('200', '300', '400', '500'), value='200')"
      ]
     },
     "metadata": {},
     "output_type": "display_data"
    },
    {
     "data": {
      "application/vnd.jupyter.widget-view+json": {
       "model_id": "f9c4712f8cde40e6be81447e2fab6722",
       "version_major": 2,
       "version_minor": 0
      },
      "text/plain": [
       "Button(description='Run S&P 500 Portfolio Advisor', layout=Layout(width='auto'), style=ButtonStyle(button_colo…"
      ]
     },
     "metadata": {},
     "output_type": "display_data"
    },
    {
     "data": {
      "application/vnd.jupyter.widget-view+json": {
       "model_id": "4e0522c6651e4f13aa7f692d0232f680",
       "version_major": 2,
       "version_minor": 0
      },
      "text/plain": [
       "Output()"
      ]
     },
     "metadata": {},
     "output_type": "display_data"
    },
    {
     "data": {
      "application/vnd.jupyter.widget-view+json": {
       "model_id": "7787e36bfd9d415eb21ca1b9bd5ca84b",
       "version_major": 2,
       "version_minor": 0
      },
      "text/plain": [
       "Output()"
      ]
     },
     "metadata": {},
     "output_type": "display_data"
    }
   ],
   "source": [
    "from IPython.display import Markdown, display\n",
    "from IPython.display import clear_output\n",
    "\n",
    "# Output\n",
    "\n",
    "MC_sim_duration = 252\n",
    "MC_sim_count = 200\n",
    "\n",
    "\n",
    "def printmd(string):\n",
    "    display(Markdown(string))\n",
    "    \n",
    "def menu_sim_duration_eventhandler(change):\n",
    "    set_sim_duration(change.new)\n",
    "    \n",
    "def menu_sim_count_eventhandler(change):\n",
    "    set_sim_count(change.new)\n",
    "\n",
    "output = widgets.Output()\n",
    "plot_output = widgets.Output()\n",
    "output.clear_output()\n",
    "\n",
    "# convert sim_time to days\n",
    "menu_sim_duration = widgets.Dropdown(options =  ['1 year', '2 years', '3 years'])\n",
    "\n",
    "# number of simulations to run\n",
    "menu_sim_count = widgets.Dropdown(options = ['200', '300', '400', '500'])\n",
    "#bounded_num = widgets.BoundedFloatText(min=0, max=100000, value=5, step=1)\n",
    "\n",
    "btn = widgets.Button(description='Run S&P 500 Portfolio Advisor', layout=Layout(width='auto'))\n",
    "btn.style.button_color = 'lightgreen'\n",
    "\n",
    "menu_sim_duration.observe(menu_sim_duration_eventhandler, names='value')\n",
    "menu_sim_count.observe(menu_sim_count_eventhandler, names='value')\n",
    "\n",
    "@output.capture()\n",
    "def btn_eventhandler(obj):\n",
    "    clear_output()\n",
    "    #print('Hello from the {} button!'.format(obj.description))\n",
    "    main()\n",
    "\n",
    "btn.on_click(btn_eventhandler)\n",
    "\n",
    "@output.capture()\n",
    "def set_sim_duration(value):\n",
    "    global MC_sim_duration\n",
    "    if value == '1 years':\n",
    "        MC_sim_duration = 252\n",
    "    elif value == '2 years':\n",
    "        MC_sim_duration = 504\n",
    "    elif value == '3 years':\n",
    "        MC_sim_duration = 756\n",
    "\n",
    "@output.capture()\n",
    "def set_sim_count(value):\n",
    "    global MC_sim_count\n",
    "    MC_sim_count=int(value)\n",
    "\n",
    "printmd(\"---\")\n",
    "printmd(\"# <font color='blue'>Portfolio Advisor:</font>\")\n",
    "printmd(\"## &emsp; Select a portfolio by screening S&P 500 by EWMA, filtering with TA\")\n",
    "printmd(\"## &emsp; &emsp; &emsp; &emsp; and running Monte Carlo simulations to security weights.\")\n",
    "printmd(\"---\")\n",
    "printmd(\"## Choose duration for Monte Carlo simulations:\")\n",
    "display(menu_sim_duration)\n",
    "printmd(\"## Choose interations for Monte Carlo simulations:\")\n",
    "\n",
    "display(menu_sim_count)\n",
    "display(btn)\n",
    "\n",
    "display(output)\n",
    "display(plot_output)"
   ]
  },
  {
   "cell_type": "code",
   "execution_count": null,
   "metadata": {},
   "outputs": [],
   "source": []
  },
  {
   "cell_type": "code",
   "execution_count": null,
   "metadata": {},
   "outputs": [],
   "source": []
  }
 ],
 "metadata": {
  "colab": {
   "authorship_tag": "ABX9TyOv5Rg0eovcgPOOu//hyU/J",
   "include_colab_link": true,
   "name": "simple-technical-analysis-stock-screener-demo.ipynb",
   "provenance": []
  },
  "kernelspec": {
   "display_name": "Python 3",
   "language": "python",
   "name": "python3"
  },
  "language_info": {
   "codemirror_mode": {
    "name": "ipython",
    "version": 3
   },
   "file_extension": ".py",
   "mimetype": "text/x-python",
   "name": "python",
   "nbconvert_exporter": "python",
   "pygments_lexer": "ipython3",
   "version": "3.7.7"
  }
 },
 "nbformat": 4,
 "nbformat_minor": 4
}
