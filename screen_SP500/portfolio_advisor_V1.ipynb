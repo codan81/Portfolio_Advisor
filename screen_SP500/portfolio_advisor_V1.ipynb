{
 "cells": [
  {
   "cell_type": "code",
   "execution_count": 1,
   "metadata": {
    "id": "t_3iZkcseOYp"
   },
   "outputs": [],
   "source": [
    "#from tqdm import tqdm_notebook, tqdm\n",
    "from tqdm.notebook import tqdm\n",
    "import alpaca_trade_api as tradeapi\n",
    "from MCForecastTools import MCSimulation\n",
    "import matplotlib.pyplot as plt\n",
    "from dotenv import load_dotenv\n",
    "from datetime import datetime\n",
    "from pathlib import Path\n",
    "from time import sleep\n",
    "import pandas as pd\n",
    "import os"
   ]
  },
  {
   "cell_type": "code",
   "execution_count": 2,
   "metadata": {
    "id": "FUUL-MhDd_xd"
   },
   "outputs": [],
   "source": [
    "alpaca_api = 0\n",
    "\n",
    "def app_init():\n",
    "    global alpaca_api\n",
    "    load_dotenv()\n",
    "\n",
    "    sp500_tickers_df = pd.read_csv(Path(\"dataset/symbols.csv\"), header=None)\n",
    "    #display(sp500_tickers_df.head(3))\n",
    "    #display(sp500_tickers_df.tail(3))\n",
    "    sp500_tickers = sp500_tickers_df.loc[:,0]\n",
    "\n",
    "    # Setting the variables for the Alpaca API and secret keys\n",
    "    alpaca_api_key = os.getenv('ALPACA_API_KEY')\n",
    "    alpaca_api_secret_key = os.getenv('ALPACA_SECRET_KEY')\n",
    "\n",
    "    display(type(alpaca_api_key))\n",
    "    display(type(alpaca_api_secret_key))\n",
    "\n",
    "    # Create the Alpaca tradeapi.REST object\n",
    "    alpaca_api = tradeapi.REST(alpaca_api_key, alpaca_api_secret_key, api_version = \"v2\")\n",
    "\n",
    "    return(sp500_tickers)\n",
    "\n",
    "#     # Set start and end dates of 3 years back from your current date\n",
    "#     timeframe=\"1D\"\n",
    "#     today=pd.Timestamp.now()\n",
    "#     start_date = pd.Timestamp(today - pd.Timedelta(days=1000), tz=\"America/New_York\").isoformat()\n",
    "#     end_date = pd.Timestamp(today).isoformat()\n",
    "#     max_rows=1000"
   ]
  },
  {
   "cell_type": "code",
   "execution_count": 3,
   "metadata": {
    "id": "FUUL-MhDd_xd"
   },
   "outputs": [],
   "source": [
    "timeframe=\"1D\"\n",
    "today=pd.Timestamp.now()\n",
    "year_start_date = pd.Timestamp(today - pd.Timedelta(days=365), tz=\"America/New_York\").isoformat()\n",
    "end_date = pd.Timestamp(today).isoformat()\n",
    "max_rows=365\n",
    "\n",
    "def get_alpaca_price(tickers):\n",
    "    ticker_df=alpaca_api.get_barset(\n",
    "    tickers,\n",
    "    timeframe,\n",
    "    start=year_start_date,\n",
    "    end=end_date,\n",
    "    limit=max_rows\n",
    "    ).df\n",
    "    \n",
    "    return (ticker_df)"
   ]
  },
  {
   "cell_type": "code",
   "execution_count": 4,
   "metadata": {
    "id": "FUUL-MhDd_xd"
   },
   "outputs": [],
   "source": [
    "#price_chart_df = get_alpaca_price('DISK')\n",
    "#price_chart_df.head()\n",
    "##close_df = price_chart_df.xs('close',level=1,axis=1)\n",
    "#close_df = pd.DataFrame(columns = ['close'])\n",
    "#close_df['close'] = price_chart_df['DISK']['close']\n",
    "#close_df.head()\n",
    "#display(close_df['close'])"
   ]
  },
  {
   "cell_type": "code",
   "execution_count": 5,
   "metadata": {
    "id": "FUUL-MhDd_xd"
   },
   "outputs": [],
   "source": [
    "# Alternative?  https://stackoverflow.com/questions/48775841/pandas-ema-not-matching-the-stocks-ema\n",
    "# ta.ema shown at the end of that page.  Is sorting index necessary?\n",
    "#import pandas_ta as ta\n",
    "#\n",
    "#data[\"EMA20\"] = ta.ema(df2[\"Close\"], length=20)\n",
    "\n",
    "def add_EMA(price, day):\n",
    "    return price.ewm(span=day).mean()\n",
    "\n",
    "# function to check for EMA crossing\n",
    "def check_EMA_crossing(df):\n",
    "    # condition 1: EMA18 is higher than EMA50 at the last trading day\n",
    "    cond_1 = df.iloc[-1]['EMA18'] > df.iloc[-1]['EMA50']\n",
    "    # condition 2: EMA18 is lower than EMA50 the previous day\n",
    "    cond_2 = df.iloc[-2]['EMA18'] < df.iloc[-2]['EMA50']\n",
    "    # condition 3: to filter out stocks with less than 50 candles\n",
    "    cond_3 = len(df.index) > 50 \n",
    "    # will return True if all 3 conditions are met\n",
    "    return (cond_1 and cond_2 and cond_3)"
   ]
  },
  {
   "cell_type": "code",
   "execution_count": 6,
   "metadata": {
    "id": "FUUL-MhDd_xd"
   },
   "outputs": [],
   "source": [
    "# If date range is dropdown-selectable, then need to pass start and end dates\n",
    "# to get_alpaca_price, instead of relying on values from app_init()\n",
    "\n",
    "def screen_tickers(ticker_list):\n",
    "    \"\"\"\n",
    "    \n",
    "    \"\"\"\n",
    "    # for loop is throttled with sleep() to keep alpacas calls under 200/minute.\n",
    "\n",
    "    # Alternative design would be getting all 500 tickers in one call to get_barset(),\n",
    "    # and extracting the each_stock 'close' column in this loop\n",
    "\n",
    "    # Preliminary ticker list after screening based on EMA\n",
    "    screened_list = [] \n",
    "\n",
    "    stock_list = ticker_list\n",
    "    #for each_stock in tqdm_notebook(stock_list):\n",
    "    for each_stock in tqdm(stock_list):\n",
    "        #print(each_stock)\n",
    "        # Step 1: get stock price for each stock\n",
    "        price_chart_df = get_alpaca_price(each_stock)\n",
    "        #price_chart_df.head()\n",
    "        close_df = pd.DataFrame(columns = ['close'])\n",
    "        close_df['close'] = price_chart_df[each_stock]['close']\n",
    "\n",
    "        # Step 2: add technical indicators (in this case EMA)\n",
    "        close_df['EMA18']=add_EMA(close_df['close'],18)\n",
    "        close_df['EMA50']=add_EMA(close_df['close'],50)\n",
    "        close_df['EMA100']=add_EMA(close_df['close'],100)\n",
    "        # if all 3 conditions are met, add stock into screened list\n",
    "        if check_EMA_crossing(close_df):\n",
    "            screened_list.append(each_stock)\n",
    "        sleep(0.2)\n",
    "\n",
    "    return (screened_list)\n"
   ]
  },
  {
   "cell_type": "code",
   "execution_count": 7,
   "metadata": {},
   "outputs": [],
   "source": [
    "# # Work out the kinks without haveing to run the above every time.\n",
    "# # ['BA', 'DISCA', 'D', 'EVRG', 'GL', 'HRL', 'MA']\n",
    "# saved_screened_list = ['AEE', 'DISCK', 'NEM', 'NLSN', 'WYNN']\n",
    "# print(saved_screened_list[:3])\n",
    "# #short_list = ['AEE', 'DISCK', 'NEM']\n",
    "# display(price_chart_df.head())\n",
    "# display(price_chart_df.tail())"
   ]
  },
  {
   "cell_type": "code",
   "execution_count": 8,
   "metadata": {},
   "outputs": [],
   "source": [
    "#\n",
    "#  Analyze screened_list for Sharpes, beta, etc.  \n",
    "#  Reduce list to three best tickers.\n",
    "#"
   ]
  },
  {
   "cell_type": "code",
   "execution_count": 9,
   "metadata": {},
   "outputs": [],
   "source": [
    "# If date range is dropdown-selectable, then will use given end date,\n",
    "# calculate back three years to get start_date\n",
    "# instead of relying on values from app_init()\n",
    "\n",
    "def get_ticker_prices(tickers, num_days):\n",
    "    \"\"\"\n",
    "    Use Alpacas to get ticker price data.\n",
    "\n",
    "    Parameters:\n",
    "        tickers: list of stock tickers\n",
    "        days: days of historical data to get (limit 1000)\n",
    "\n",
    "    Return value:  DataFrame of ticker price data\n",
    "    \"\"\" \n",
    "    \n",
    "    # Set start and end datetimes between now and num_days ago\n",
    "\n",
    "    timeframe=\"1D\"\n",
    "    today=pd.Timestamp.now()\n",
    "    start_date = pd.Timestamp(today - pd.Timedelta(days=num_days), tz=\"America/New_York\").isoformat()\n",
    "    end_date = pd.Timestamp(today).isoformat()\n",
    "    # Set number of rows to three years of days\n",
    "    limit_rows = 1000\n",
    "\n",
    "    # Get 3 years’ worth of historical price data for Microsoft and Coca-Cola\n",
    "    prices_df = alpaca_api.get_barset(\n",
    "        tickers,\n",
    "        timeframe,\n",
    "        start=start_date,\n",
    "        end=end_date,\n",
    "        limit=limit_rows\n",
    "    ).df\n",
    "\n",
    "    return(prices_df)\n",
    "   "
   ]
  },
  {
   "cell_type": "code",
   "execution_count": 10,
   "metadata": {},
   "outputs": [],
   "source": [
    "# Eventually these belong in the app_init() function\n",
    "\n",
    "MC_median_df_dict = {}\n",
    "MC_sim_df_dict = {}\n",
    "weights_dict = {\n",
    "    0:[.33,.33,.33],\n",
    "    1:[.10,.30,.60],\n",
    "    2:[.60,.30,.10],\n",
    "    3:[.20,.40,.40],\n",
    "    4:[.40,.40,.20],\n",
    "    5:[.20,.60,.20],  \n",
    "    6:[.20,.50,.30],\n",
    "    7:[.30,.20,.50]\n",
    "}\n"
   ]
  },
  {
   "cell_type": "code",
   "execution_count": 11,
   "metadata": {},
   "outputs": [],
   "source": [
    "import ipywidgets as widgets\n",
    "\n",
    "output = widgets.Output()\n",
    "\n",
    "def run_MC(tickers_df):\n",
    "    # print ticker names\n",
    "    #   Change MCF code to print Running Monte Carlo simulatioin for {weights[i]}\n",
    "    for i in range(len(weights_dict)):\n",
    "        output.clear_output()\n",
    "        \n",
    "        # Add Monte Carlo code from M_5.3.3_MCForecast\n",
    "        # Configure a Monte Carlo simulation to forecast five years cumulative returns\n",
    "        MC_sim_config = MCSimulation(\n",
    "            portfolio_data = tickers_df,\n",
    "            weights = weights_dict[i],\n",
    "            num_simulation = 200,\n",
    "            num_trading_days = 252\n",
    "        )\n",
    "\n",
    "        # Printing the simulation input data\n",
    "        #MC_sim_config.portfolio_data.head()\n",
    "\n",
    "        MC_sim = MC_sim_config.calc_cumulative_return()\n",
    "        #display(MC_sim.head(3))\n",
    "\n",
    "        MC_sim_median = MC_sim.median(axis=1)\n",
    "\n",
    "        MC_median_df_dict[i] = MC_sim_median\n",
    "        # It might be interesting to do plt.ioff(),\n",
    "        # and figure out an additive side-by-side plot, doing plot.show after the loop.\n",
    "        # Or just don't print these at all\n",
    "#         ax=MC_sim.plot(legend=None)\n",
    "#         MC_sim_median.plot(ax=ax,linewidth=10)\n",
    "#         plt.ylim([0.7,1.8])\n",
    "#         plt.show\n"
   ]
  },
  {
   "cell_type": "code",
   "execution_count": 12,
   "metadata": {},
   "outputs": [
    {
     "data": {
      "text/plain": [
       "str"
      ]
     },
     "metadata": {},
     "output_type": "display_data"
    },
    {
     "data": {
      "text/plain": [
       "str"
      ]
     },
     "metadata": {},
     "output_type": "display_data"
    },
    {
     "data": {
      "application/vnd.jupyter.widget-view+json": {
       "model_id": "15737fc9f0b4476983f6774fc92681a5",
       "version_major": 2,
       "version_minor": 0
      },
      "text/plain": [
       "  0%|          | 0/505 [00:00<?, ?it/s]"
      ]
     },
     "metadata": {},
     "output_type": "display_data"
    },
    {
     "name": "stdout",
     "output_type": "stream",
     "text": [
      "Running 8 Monte Carlo simulations of varing portfolio weights\n"
     ]
    },
    {
     "data": {
      "application/vnd.jupyter.widget-view+json": {
       "model_id": "",
       "version_major": 2,
       "version_minor": 0
      },
      "text/plain": [
       "  0%|          | 0/200 [00:00<?, ?it/s]"
      ]
     },
     "metadata": {},
     "output_type": "display_data"
    },
    {
     "data": {
      "application/vnd.jupyter.widget-view+json": {
       "model_id": "",
       "version_major": 2,
       "version_minor": 0
      },
      "text/plain": [
       "  0%|          | 0/200 [00:00<?, ?it/s]"
      ]
     },
     "metadata": {},
     "output_type": "display_data"
    },
    {
     "data": {
      "application/vnd.jupyter.widget-view+json": {
       "model_id": "",
       "version_major": 2,
       "version_minor": 0
      },
      "text/plain": [
       "  0%|          | 0/200 [00:00<?, ?it/s]"
      ]
     },
     "metadata": {},
     "output_type": "display_data"
    },
    {
     "data": {
      "application/vnd.jupyter.widget-view+json": {
       "model_id": "",
       "version_major": 2,
       "version_minor": 0
      },
      "text/plain": [
       "  0%|          | 0/200 [00:00<?, ?it/s]"
      ]
     },
     "metadata": {},
     "output_type": "display_data"
    },
    {
     "data": {
      "application/vnd.jupyter.widget-view+json": {
       "model_id": "",
       "version_major": 2,
       "version_minor": 0
      },
      "text/plain": [
       "  0%|          | 0/200 [00:00<?, ?it/s]"
      ]
     },
     "metadata": {},
     "output_type": "display_data"
    },
    {
     "data": {
      "application/vnd.jupyter.widget-view+json": {
       "model_id": "",
       "version_major": 2,
       "version_minor": 0
      },
      "text/plain": [
       "  0%|          | 0/200 [00:00<?, ?it/s]"
      ]
     },
     "metadata": {},
     "output_type": "display_data"
    },
    {
     "data": {
      "application/vnd.jupyter.widget-view+json": {
       "model_id": "",
       "version_major": 2,
       "version_minor": 0
      },
      "text/plain": [
       "  0%|          | 0/200 [00:00<?, ?it/s]"
      ]
     },
     "metadata": {},
     "output_type": "display_data"
    },
    {
     "data": {
      "application/vnd.jupyter.widget-view+json": {
       "model_id": "",
       "version_major": 2,
       "version_minor": 0
      },
      "text/plain": [
       "  0%|          | 0/200 [00:00<?, ?it/s]"
      ]
     },
     "metadata": {},
     "output_type": "display_data"
    },
    {
     "data": {
      "image/png": "[encoded data removed]",
      "text/plain": [
       "<Figure size 432x288 with 1 Axes>"
      ]
     },
     "metadata": {
      "needs_background": "light"
     },
     "output_type": "display_data"
    }
   ],
   "source": [
    "# main():\n",
    "#\n",
    "# Get all sp500 tickers\n",
    "ticker_list = app_init()\n",
    "\n",
    "# Run screening to get preferred short list\n",
    "screened_ticker_list = screen_tickers(ticker_list)\n",
    "\n",
    "# Analyze to reduce short list to optimal list\n",
    "# optimal_ticker_list = analyze_tickers(screened_ticker_list)\n",
    "\n",
    "# until analyze_tickers() exists, take just first three of list\n",
    "test_list = screened_ticker_list[:3]\n",
    "#screened_df = get_ticker_prices(optimal_ticker_list, 252)\n",
    "optimal_df = get_ticker_prices(test_list, 1000)\n",
    "\n",
    "print(f\"Running {len(weights_dict)} Monte Carlo simulations of varing portfolio weights\")\n",
    "run_MC(optimal_df)\n",
    "\n",
    "for key in MC_median_df_dict:\n",
    "    MC_median_df_dict[key].plot(legend=True, label=str(weights_dict[key]))"
   ]
  },
  {
   "cell_type": "code",
   "execution_count": 144,
   "metadata": {},
   "outputs": [
    {
     "data": {
      "text/html": [
       "<div>\n",
       "<style scoped>\n",
       "    .dataframe tbody tr th:only-of-type {\n",
       "        vertical-align: middle;\n",
       "    }\n",
       "\n",
       "    .dataframe tbody tr th {\n",
       "        vertical-align: top;\n",
       "    }\n",
       "\n",
       "    .dataframe thead th {\n",
       "        text-align: right;\n",
       "    }\n",
       "</style>\n",
       "<table border=\"1\" class=\"dataframe\">\n",
       "  <thead>\n",
       "    <tr style=\"text-align: right;\">\n",
       "      <th></th>\n",
       "      <th>open</th>\n",
       "      <th>high</th>\n",
       "      <th>low</th>\n",
       "      <th>close</th>\n",
       "      <th>volume</th>\n",
       "    </tr>\n",
       "    <tr>\n",
       "      <th>time</th>\n",
       "      <th></th>\n",
       "      <th></th>\n",
       "      <th></th>\n",
       "      <th></th>\n",
       "      <th></th>\n",
       "    </tr>\n",
       "  </thead>\n",
       "  <tbody>\n",
       "    <tr>\n",
       "      <th>2021-03-10 00:00:00-05:00</th>\n",
       "      <td>98.60</td>\n",
       "      <td>98.71</td>\n",
       "      <td>96.1746</td>\n",
       "      <td>96.30</td>\n",
       "      <td>1366643</td>\n",
       "    </tr>\n",
       "    <tr>\n",
       "      <th>2021-03-11 00:00:00-05:00</th>\n",
       "      <td>96.99</td>\n",
       "      <td>98.18</td>\n",
       "      <td>96.7200</td>\n",
       "      <td>96.95</td>\n",
       "      <td>1716824</td>\n",
       "    </tr>\n",
       "    <tr>\n",
       "      <th>2021-03-12 00:00:00-05:00</th>\n",
       "      <td>96.44</td>\n",
       "      <td>97.63</td>\n",
       "      <td>95.2900</td>\n",
       "      <td>97.58</td>\n",
       "      <td>1347713</td>\n",
       "    </tr>\n",
       "    <tr>\n",
       "      <th>2021-03-15 00:00:00-04:00</th>\n",
       "      <td>98.61</td>\n",
       "      <td>100.41</td>\n",
       "      <td>98.0200</td>\n",
       "      <td>100.01</td>\n",
       "      <td>1481426</td>\n",
       "    </tr>\n",
       "    <tr>\n",
       "      <th>2021-03-16 00:00:00-04:00</th>\n",
       "      <td>100.22</td>\n",
       "      <td>101.48</td>\n",
       "      <td>99.8564</td>\n",
       "      <td>100.22</td>\n",
       "      <td>1203611</td>\n",
       "    </tr>\n",
       "  </tbody>\n",
       "</table>\n",
       "</div>"
      ],
      "text/plain": [
       "                             open    high      low   close   volume\n",
       "time                                                               \n",
       "2021-03-10 00:00:00-05:00   98.60   98.71  96.1746   96.30  1366643\n",
       "2021-03-11 00:00:00-05:00   96.99   98.18  96.7200   96.95  1716824\n",
       "2021-03-12 00:00:00-05:00   96.44   97.63  95.2900   97.58  1347713\n",
       "2021-03-15 00:00:00-04:00   98.61  100.41  98.0200  100.01  1481426\n",
       "2021-03-16 00:00:00-04:00  100.22  101.48  99.8564  100.22  1203611"
      ]
     },
     "metadata": {},
     "output_type": "display_data"
    },
    {
     "data": {
      "text/html": [
       "<div>\n",
       "<style scoped>\n",
       "    .dataframe tbody tr th:only-of-type {\n",
       "        vertical-align: middle;\n",
       "    }\n",
       "\n",
       "    .dataframe tbody tr th {\n",
       "        vertical-align: top;\n",
       "    }\n",
       "\n",
       "    .dataframe thead tr th {\n",
       "        text-align: left;\n",
       "    }\n",
       "\n",
       "    .dataframe thead tr:last-of-type th {\n",
       "        text-align: right;\n",
       "    }\n",
       "</style>\n",
       "<table border=\"1\" class=\"dataframe\">\n",
       "  <thead>\n",
       "    <tr>\n",
       "      <th></th>\n",
       "      <th colspan=\"5\" halign=\"left\">AKAM</th>\n",
       "      <th colspan=\"5\" halign=\"left\">CLX</th>\n",
       "      <th colspan=\"5\" halign=\"left\">FDX</th>\n",
       "    </tr>\n",
       "    <tr>\n",
       "      <th></th>\n",
       "      <th>open</th>\n",
       "      <th>high</th>\n",
       "      <th>low</th>\n",
       "      <th>close</th>\n",
       "      <th>volume</th>\n",
       "      <th>open</th>\n",
       "      <th>high</th>\n",
       "      <th>low</th>\n",
       "      <th>close</th>\n",
       "      <th>volume</th>\n",
       "      <th>open</th>\n",
       "      <th>high</th>\n",
       "      <th>low</th>\n",
       "      <th>close</th>\n",
       "      <th>volume</th>\n",
       "    </tr>\n",
       "    <tr>\n",
       "      <th>time</th>\n",
       "      <th></th>\n",
       "      <th></th>\n",
       "      <th></th>\n",
       "      <th></th>\n",
       "      <th></th>\n",
       "      <th></th>\n",
       "      <th></th>\n",
       "      <th></th>\n",
       "      <th></th>\n",
       "      <th></th>\n",
       "      <th></th>\n",
       "      <th></th>\n",
       "      <th></th>\n",
       "      <th></th>\n",
       "      <th></th>\n",
       "    </tr>\n",
       "  </thead>\n",
       "  <tbody>\n",
       "    <tr>\n",
       "      <th>2021-03-10 00:00:00-05:00</th>\n",
       "      <td>98.60</td>\n",
       "      <td>98.71</td>\n",
       "      <td>96.1746</td>\n",
       "      <td>96.30</td>\n",
       "      <td>1366643</td>\n",
       "      <td>186.70</td>\n",
       "      <td>190.250</td>\n",
       "      <td>185.00</td>\n",
       "      <td>189.30</td>\n",
       "      <td>1305559</td>\n",
       "      <td>259.13</td>\n",
       "      <td>261.8100</td>\n",
       "      <td>258.0600</td>\n",
       "      <td>260.54</td>\n",
       "      <td>1454547</td>\n",
       "    </tr>\n",
       "    <tr>\n",
       "      <th>2021-03-11 00:00:00-05:00</th>\n",
       "      <td>96.99</td>\n",
       "      <td>98.18</td>\n",
       "      <td>96.7200</td>\n",
       "      <td>96.95</td>\n",
       "      <td>1716824</td>\n",
       "      <td>188.48</td>\n",
       "      <td>189.020</td>\n",
       "      <td>186.71</td>\n",
       "      <td>186.93</td>\n",
       "      <td>898546</td>\n",
       "      <td>263.54</td>\n",
       "      <td>270.1600</td>\n",
       "      <td>262.3100</td>\n",
       "      <td>268.49</td>\n",
       "      <td>3593899</td>\n",
       "    </tr>\n",
       "    <tr>\n",
       "      <th>2021-03-12 00:00:00-05:00</th>\n",
       "      <td>96.44</td>\n",
       "      <td>97.63</td>\n",
       "      <td>95.2900</td>\n",
       "      <td>97.58</td>\n",
       "      <td>1347713</td>\n",
       "      <td>186.70</td>\n",
       "      <td>190.060</td>\n",
       "      <td>186.14</td>\n",
       "      <td>188.99</td>\n",
       "      <td>915293</td>\n",
       "      <td>267.26</td>\n",
       "      <td>271.1895</td>\n",
       "      <td>265.2614</td>\n",
       "      <td>270.13</td>\n",
       "      <td>1991332</td>\n",
       "    </tr>\n",
       "    <tr>\n",
       "      <th>2021-03-15 00:00:00-04:00</th>\n",
       "      <td>98.61</td>\n",
       "      <td>100.41</td>\n",
       "      <td>98.0200</td>\n",
       "      <td>100.01</td>\n",
       "      <td>1481426</td>\n",
       "      <td>189.75</td>\n",
       "      <td>190.365</td>\n",
       "      <td>187.48</td>\n",
       "      <td>188.51</td>\n",
       "      <td>652058</td>\n",
       "      <td>271.00</td>\n",
       "      <td>272.8500</td>\n",
       "      <td>263.7900</td>\n",
       "      <td>266.88</td>\n",
       "      <td>2908517</td>\n",
       "    </tr>\n",
       "    <tr>\n",
       "      <th>2021-03-16 00:00:00-04:00</th>\n",
       "      <td>100.22</td>\n",
       "      <td>101.48</td>\n",
       "      <td>99.8564</td>\n",
       "      <td>100.22</td>\n",
       "      <td>1203611</td>\n",
       "      <td>188.62</td>\n",
       "      <td>190.400</td>\n",
       "      <td>187.55</td>\n",
       "      <td>189.04</td>\n",
       "      <td>791608</td>\n",
       "      <td>267.00</td>\n",
       "      <td>267.0300</td>\n",
       "      <td>260.3000</td>\n",
       "      <td>260.91</td>\n",
       "      <td>1985874</td>\n",
       "    </tr>\n",
       "  </tbody>\n",
       "</table>\n",
       "</div>"
      ],
      "text/plain": [
       "                             AKAM                                       CLX  \\\n",
       "                             open    high      low   close   volume    open   \n",
       "time                                                                          \n",
       "2021-03-10 00:00:00-05:00   98.60   98.71  96.1746   96.30  1366643  186.70   \n",
       "2021-03-11 00:00:00-05:00   96.99   98.18  96.7200   96.95  1716824  188.48   \n",
       "2021-03-12 00:00:00-05:00   96.44   97.63  95.2900   97.58  1347713  186.70   \n",
       "2021-03-15 00:00:00-04:00   98.61  100.41  98.0200  100.01  1481426  189.75   \n",
       "2021-03-16 00:00:00-04:00  100.22  101.48  99.8564  100.22  1203611  188.62   \n",
       "\n",
       "                                                                FDX            \\\n",
       "                              high     low   close   volume    open      high   \n",
       "time                                                                            \n",
       "2021-03-10 00:00:00-05:00  190.250  185.00  189.30  1305559  259.13  261.8100   \n",
       "2021-03-11 00:00:00-05:00  189.020  186.71  186.93   898546  263.54  270.1600   \n",
       "2021-03-12 00:00:00-05:00  190.060  186.14  188.99   915293  267.26  271.1895   \n",
       "2021-03-15 00:00:00-04:00  190.365  187.48  188.51   652058  271.00  272.8500   \n",
       "2021-03-16 00:00:00-04:00  190.400  187.55  189.04   791608  267.00  267.0300   \n",
       "\n",
       "                                                      \n",
       "                                low   close   volume  \n",
       "time                                                  \n",
       "2021-03-10 00:00:00-05:00  258.0600  260.54  1454547  \n",
       "2021-03-11 00:00:00-05:00  262.3100  268.49  3593899  \n",
       "2021-03-12 00:00:00-05:00  265.2614  270.13  1991332  \n",
       "2021-03-15 00:00:00-04:00  263.7900  266.88  2908517  \n",
       "2021-03-16 00:00:00-04:00  260.3000  260.91  1985874  "
      ]
     },
     "metadata": {},
     "output_type": "display_data"
    }
   ],
   "source": [
    "#The rest are just testing cells\n",
    "\n",
    "display(optimal_df['AKAM'].head())\n",
    "display(optimal_df.head())\n"
   ]
  },
  {
   "cell_type": "code",
   "execution_count": null,
   "metadata": {},
   "outputs": [],
   "source": []
  }
 ],
 "metadata": {
  "colab": {
   "authorship_tag": "ABX9TyOv5Rg0eovcgPOOu//hyU/J",
   "include_colab_link": true,
   "name": "simple-technical-analysis-stock-screener-demo.ipynb",
   "provenance": []
  },
  "kernelspec": {
   "display_name": "Python 3",
   "language": "python",
   "name": "python3"
  },
  "language_info": {
   "codemirror_mode": {
    "name": "ipython",
    "version": 3
   },
   "file_extension": ".py",
   "mimetype": "text/x-python",
   "name": "python",
   "nbconvert_exporter": "python",
   "pygments_lexer": "ipython3",
   "version": "3.7.10"
  }
 },
 "nbformat": 4,
 "nbformat_minor": 4
}
