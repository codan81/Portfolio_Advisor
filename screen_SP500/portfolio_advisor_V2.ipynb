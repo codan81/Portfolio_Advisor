{
 "cells": [
  {
   "cell_type": "code",
   "execution_count": 1,
   "metadata": {
    "id": "t_3iZkcseOYp"
   },
   "outputs": [],
   "source": [
    "#from tqdm import tqdm_notebook, tqdm\n",
    "from tqdm.notebook import tqdm\n",
    "import alpaca_trade_api as tradeapi\n",
    "from MCForecastTools import MCSimulation\n",
    "import matplotlib.pyplot as plt\n",
    "import ipywidgets as widgets\n",
    "from ipywidgets import Button, Layout\n",
    "from dotenv import load_dotenv\n",
    "from datetime import datetime\n",
    "from pathlib import Path\n",
    "from time import sleep\n",
    "import pandas as pd\n",
    "import os"
   ]
  },
  {
   "cell_type": "code",
   "execution_count": 2,
   "metadata": {
    "id": "FUUL-MhDd_xd"
   },
   "outputs": [],
   "source": [
    "# alpaca_api = 0\n",
    "\n",
    "def app_init():\n",
    "    global alpaca_api\n",
    "    load_dotenv()\n",
    "\n",
    "    sp500_tickers_df = pd.read_csv(Path(\"dataset/symbols.csv\"), header=None)\n",
    "    #display(sp500_tickers_df.head(3))\n",
    "    #display(sp500_tickers_df.tail(3))\n",
    "    sp500_tickers = sp500_tickers_df.loc[:,0]\n",
    "\n",
    "    # Setting the variables for the Alpaca API and secret keys\n",
    "    alpaca_api_key = os.getenv('ALPACA_API_KEY')\n",
    "    alpaca_api_secret_key = os.getenv('ALPACA_SECRET_KEY')\n",
    "\n",
    "    #display(type(alpaca_api_key))\n",
    "    #display(type(alpaca_api_secret_key))\n",
    "\n",
    "    # Create the Alpaca tradeapi.REST object\n",
    "    alpaca_api = tradeapi.REST(alpaca_api_key, alpaca_api_secret_key, api_version = \"v2\")\n",
    "\n",
    "    return(sp500_tickers, alpaca_api)\n",
    "\n",
    "#     # Set start and end dates of 3 years back from your current date\n",
    "#     timeframe=\"1D\"\n",
    "#     today=pd.Timestamp.now()\n",
    "#     start_date = pd.Timestamp(today - pd.Timedelta(days=1000), tz=\"America/New_York\").isoformat()\n",
    "#     end_date = pd.Timestamp(today).isoformat()\n",
    "#     max_rows=1000"
   ]
  },
  {
   "cell_type": "code",
   "execution_count": 3,
   "metadata": {
    "id": "FUUL-MhDd_xd"
   },
   "outputs": [],
   "source": [
    "timeframe=\"1D\"\n",
    "today=pd.Timestamp.now()\n",
    "\n",
    "year_start_date = pd.Timestamp(today - pd.Timedelta(days=365), tz=\"America/New_York\").isoformat()\n",
    "end_date = pd.Timestamp(today).isoformat()\n",
    "\n",
    "max_rows=365\n",
    "\n",
    "def get_alpaca_price(tickers):\n",
    "    ticker_df=alpaca_api.get_barset(\n",
    "    tickers,\n",
    "    timeframe,\n",
    "    start=year_start_date,\n",
    "    end=end_date,\n",
    "    limit=max_rows\n",
    "    ).df\n",
    "\n",
    "    return (ticker_df)"
   ]
  },
  {
   "cell_type": "code",
   "execution_count": null,
   "metadata": {
    "id": "FUUL-MhDd_xd"
   },
   "outputs": [],
   "source": []
  },
  {
   "cell_type": "code",
   "execution_count": 4,
   "metadata": {
    "id": "FUUL-MhDd_xd"
   },
   "outputs": [],
   "source": [
    "# Alternative?  https://stackoverflow.com/questions/48775841/pandas-ema-not-matching-the-stocks-ema\n",
    "# ta.ema shown at the end of that page.  Is sorting index necessary?\n",
    "#import pandas_ta as ta\n",
    "#\n",
    "#data[\"EMA20\"] = ta.ema(df2[\"Close\"], length=20)\n",
    "\n",
    "def add_EMA(price, day):\n",
    "    return price.ewm(span=day).mean()\n",
    "\n",
    "# function to check for EMA crossing\n",
    "def check_EMA_crossing(df):\n",
    "    # condition 1: EMA18 is higher than EMA50 at the last trading day\n",
    "    cond_1 = df.iloc[-1]['EMA18'] > df.iloc[-1]['EMA50']\n",
    "    # condition 2: EMA18 is lower than EMA50 the previous day\n",
    "    cond_2 = df.iloc[-2]['EMA18'] < df.iloc[-2]['EMA50']\n",
    "    # condition 3: to filter out stocks with less than 50 candles\n",
    "    cond_3 = len(df.index) > 50 \n",
    "    # will return True if all 3 conditions are met\n",
    "    return (cond_1 and cond_2 and cond_3)"
   ]
  },
  {
   "cell_type": "code",
   "execution_count": 5,
   "metadata": {
    "id": "FUUL-MhDd_xd"
   },
   "outputs": [],
   "source": [
    "# If date range is dropdown-selectable, then need to pass start and end dates\n",
    "# to get_ticker_prices, instead of relying on values from app_init()\n",
    "\n",
    "def screen_tickers(ticker_list):\n",
    "    \"\"\"\n",
    "    Screen S&P tickers by Exponential Moving Average\n",
    "    \n",
    "    Parameters: ticker_list \n",
    "    \n",
    "    Returns: the screened list of tickers\n",
    "    \"\"\"\n",
    "    \n",
    "    # Preliminary ticker list after screening based on EMA\n",
    "    # Step 1: get all sp500 prices\n",
    "    sp500_df = get_ticker_prices(ticker_list[0:1], 252)\n",
    "    done = False\n",
    "    ticker_count = len(ticker_list) -1\n",
    "    start=1\n",
    "    end=101\n",
    "    # each dataframe has 100 tickers, concat them\n",
    "    printmd(\"## Getting Alpacas ticker data:\")\n",
    "\n",
    "    while not done:\n",
    "        partial_df = get_ticker_prices(ticker_list[start:end], 252)\n",
    "        sp500_df = pd.concat([sp500_df, partial_df], axis=1)\n",
    "        start +=100\n",
    "        end += 100\n",
    "        if end >= 602:\n",
    "            done = True\n",
    "\n",
    "    #display(sp500_df)\n",
    "    \n",
    "    screened_list = [] \n",
    "\n",
    "    stock_list = ticker_list\n",
    "    #for each_stock in tqdm_notebook(stock_list):\n",
    "    printmd(f\"## Screening {ticker_count} S&P 500 tickers:\")\n",
    "    for each_stock in tqdm(stock_list, leave=False):\n",
    "        ##\n",
    "        ticker_df = sp500_df[each_stock]\n",
    "        close_df = pd.DataFrame(columns = ['close'])\n",
    "        close_df['close'] = ticker_df['close']\n",
    "        ##\n",
    "        \n",
    "        # Step 2: add technical indicators (in this case EMA)\n",
    "        close_df['EMA18']=add_EMA(close_df['close'],18)\n",
    "        close_df['EMA50']=add_EMA(close_df['close'],50)\n",
    "        close_df['EMA100']=add_EMA(close_df['close'],100)\n",
    "        # if all 3 conditions are met, add stock into screened list\n",
    "        if check_EMA_crossing(close_df):\n",
    "            screened_list.append(each_stock)\n",
    "        #sleep(0.2)\n",
    "\n",
    "    return (screened_list)\n"
   ]
  },
  {
   "cell_type": "code",
   "execution_count": 6,
   "metadata": {},
   "outputs": [],
   "source": [
    "# # Work out the kinks without haveing to run the above every time.\n",
    "# # ['BA', 'DISCA', 'D', 'EVRG', 'GL', 'HRL', 'MA']\n",
    "# saved_screened_list = ['AEE', 'DISCK', 'NEM', 'NLSN', 'WYNN']\n",
    "# print(saved_screened_list[:3])\n",
    "# #short_list = ['AEE', 'DISCK', 'NEM']\n",
    "# display(price_chart_df.head())\n",
    "# display(price_chart_df.tail())"
   ]
  },
  {
   "cell_type": "code",
   "execution_count": 7,
   "metadata": {},
   "outputs": [],
   "source": [
    "#\n",
    "#  Analyze screened_list for Sharpes, beta, etc.  \n",
    "#  Reduce list to three best tickers.\n",
    "#"
   ]
  },
  {
   "cell_type": "code",
   "execution_count": 8,
   "metadata": {},
   "outputs": [],
   "source": [
    "# If date range is dropdown-selectable, then will use given end date,\n",
    "# calculate back three years to get start_date\n",
    "# instead of relying on values from app_init()\n",
    "\n",
    "def get_ticker_prices(tickers, num_days=1000):\n",
    "    \"\"\"\n",
    "    Use Alpacas to get ticker price data.\n",
    "\n",
    "    Parameters:\n",
    "        tickers: list of stock tickers\n",
    "        days: days of historical data to get (limit 1000)\n",
    "\n",
    "    Return value:  DataFrame of ticker price data\n",
    "    \"\"\" \n",
    "    \n",
    "    # Set start and end datetimes between now and num_days ago\n",
    "\n",
    "    timeframe=\"1D\"\n",
    "    today=pd.Timestamp.now()\n",
    "    start_date = pd.Timestamp(today - pd.Timedelta(days=num_days), tz=\"America/New_York\").isoformat()\n",
    "    end_date = pd.Timestamp(today).isoformat()\n",
    "    # Set number of rows to three years of days\n",
    "    limit_rows = 1000\n",
    "\n",
    "    # Get 3 years’ worth of historical price data for Microsoft and Coca-Cola\n",
    "    prices_df = alpaca_api.get_barset(\n",
    "        tickers,\n",
    "        timeframe,\n",
    "        start=start_date,\n",
    "        end=end_date,\n",
    "        limit=limit_rows\n",
    "    ).df\n",
    "\n",
    "    return(prices_df)\n",
    "   "
   ]
  },
  {
   "cell_type": "code",
   "execution_count": 9,
   "metadata": {},
   "outputs": [],
   "source": [
    "# Eventually these belong in the app_init() function\n",
    "\n",
    "MC_median_df_dict = {}\n",
    "MC_sim_df_dict = {}\n",
    "\n",
    "\n",
    "# weights_dict = {\n",
    "#     0:[.33,.33,.33],\n",
    "#     1:[.10,.30,.60],\n",
    "#     2:[.60,.30,.10],\n",
    "#     3:[.20,.40,.40],\n",
    "#     4:[.40,.40,.20],\n",
    "#     5:[.20,.60,.20],  \n",
    "#     6:[.20,.50,.30],\n",
    "#     7:[.30,.20,.50]\n",
    "# }\n",
    "weights_dict3 = {0:[.33,.33,.33],1:[.10,.30,.60],2:[.60,.30,.10],3:[.20,.40,.40],4:[.40,.40,.20],5:[.20,.60,.20],6:[.20,.50,.30],7:[.30,.20,.50]}\n",
    "weights_dict2 = {0:[.50,.50],1:[.40,.60],2:[.60,.40],3:[.30,.70],4:[.70,.30],5:[.20,.80],6:[.80,.20]}\n",
    "weights_dict1 = {0:[1.0]}\n",
    "weights_list = [weights_dict1, weights_dict2, weights_dict3]"
   ]
  },
  {
   "cell_type": "code",
   "execution_count": 25,
   "metadata": {},
   "outputs": [],
   "source": [
    "\n",
    "def run_MC(tickers_df, sim_duration, sim_count):\n",
    "    # print ticker names\n",
    "    #   Change MCF code to print Running Monte Carlo simulatioin for {weights[i]}\n",
    "    for i in range(len(weights_dict)):\n",
    "        #output.clear_output()\n",
    "        \n",
    "        # Add Monte Carlo code from M_5.3.3_MCForecast\n",
    "        # Configure a Monte Carlo simulation to forecast five years cumulative returns\n",
    "        #display(f\"using num_trading_days: {sim_count} simulations: {sim_duration}\")\n",
    "        MC_sim_config = MCSimulation(\n",
    "            portfolio_data = tickers_df,\n",
    "            weights = weights_dict[i],\n",
    "            num_simulation = sim_count,\n",
    "            num_trading_days = sim_duration\n",
    "        )\n",
    "\n",
    "        # Printing the simulation input data\n",
    "        #MC_sim_config.portfolio_data.head()\n",
    "\n",
    "        MC_sim = MC_sim_config.calc_cumulative_return()\n",
    "        #display(MC_sim.head(3))\n",
    "\n",
    "        MC_sim_median = MC_sim.median(axis=1)\n",
    "\n",
    "        MC_median_df_dict[i] = MC_sim_median\n",
    "        \n",
    "        return(MC_sim_config)\n",
    "    \n",
    "        # It might be interesting to do plt.ioff(),\n",
    "        # and figure out an additive side-by-side plot, doing plot.show after the loop.\n",
    "        # Or just don't print these at all\n",
    "#         ax=MC_sim.plot(legend=None)\n",
    "#         MC_sim_median.plot(ax=ax,linewidth=10)\n",
    "#         plt.ylim([0.7,1.8])\n",
    "#         plt.show\n"
   ]
  },
  {
   "cell_type": "code",
   "execution_count": 39,
   "metadata": {},
   "outputs": [],
   "source": [
    "def main():\n",
    "    global weights_dict\n",
    "    global screened_ticker_list\n",
    "    \n",
    "    plot_output = widgets.Output()\n",
    "    \n",
    "    # Get all sp500 tickers\n",
    "    ticker_list, alpaca_api = app_init()\n",
    "\n",
    "    # Run screening to get preferred short list\n",
    "    screened_ticker_list = screen_tickers(ticker_list)\n",
    "\n",
    "    # For Demo, may have to use this\n",
    "    #screened_ticker_list = ['AEE', 'DISCK', 'NEM']\n",
    "    if len(screened_ticker_list) < 3:\n",
    "        weights_dict = weights_list[len(screened_ticker_list) -1]\n",
    "    else:\n",
    "        weights_dict = weights_dict3\n",
    "\n",
    "    #display(print(\"weights_dict: \", weights_dict))\n",
    "\n",
    "    #display(screened_ticker_list)\n",
    "    # Analyze to reduce short list to optimal list\n",
    "    # optimal_ticker_list = analyze_tickers(screened_ticker_list)\n",
    "\n",
    "    # until analyze_tickers() exists, take just first three of list\n",
    "    test_list = screened_ticker_list[:3]\n",
    "    #screened_df = get_ticker_prices(optimal_ticker_list, 252)\n",
    "    optimal_df = get_ticker_prices(test_list, 1000)\n",
    "\n",
    "    printmd(f\"## Running {len(weights_dict)} Monte Carlo simulations of varying portfolio weights:\")\n",
    "    MC_sim_class = run_MC(optimal_df, MC_sim_duration, MC_sim_count)\n",
    "\n",
    "    fig, axes = plt.subplots(1,2)\n",
    "    with plot_output:\n",
    "        for key in MC_median_df_dict:\n",
    "            MC_median_df_dict[key].plot(ax=axes[0], legend=True, figsize=(15,5), label=str(weights_dict[key]))\n",
    "        \n",
    "        MC_sim_dist_plot = MC_sim_class.plot_distribution()\n",
    "\n",
    "        plt.show()\n",
    "\n",
    "    display(plot_output)    \n",
    "\n",
    "#fig, axes = plt.subplots(1,2)\n",
    "#df_base.plot(ax=axes[0], figsize=(25,5))\n",
    "#df_spikes.plot(ax=axes[1])"
   ]
  },
  {
   "cell_type": "code",
   "execution_count": 40,
   "metadata": {},
   "outputs": [
    {
     "data": {
      "text/markdown": [
       "## Choose duration for Monte Carlo simulations:"
      ],
      "text/plain": [
       "<IPython.core.display.Markdown object>"
      ]
     },
     "metadata": {},
     "output_type": "display_data"
    },
    {
     "data": {
      "application/vnd.jupyter.widget-view+json": {
       "model_id": "ee9baf45b3df4122aaf683c3ab2bce74",
       "version_major": 2,
       "version_minor": 0
      },
      "text/plain": [
       "Dropdown(options=('1 year', '2 years', '3 years'), value='1 year')"
      ]
     },
     "metadata": {},
     "output_type": "display_data"
    },
    {
     "data": {
      "text/markdown": [
       "## Choose interations for Monte Carlo simulations:"
      ],
      "text/plain": [
       "<IPython.core.display.Markdown object>"
      ]
     },
     "metadata": {},
     "output_type": "display_data"
    },
    {
     "data": {
      "application/vnd.jupyter.widget-view+json": {
       "model_id": "5b239d2c07244fac94dfdd44e81d0dc2",
       "version_major": 2,
       "version_minor": 0
      },
      "text/plain": [
       "Dropdown(options=('200', '300', '400', '500'), value='200')"
      ]
     },
     "metadata": {},
     "output_type": "display_data"
    },
    {
     "data": {
      "application/vnd.jupyter.widget-view+json": {
       "model_id": "599a137535c0406e9423e380847e6833",
       "version_major": 2,
       "version_minor": 0
      },
      "text/plain": [
       "Button(description='Run S&P 500 Portfolio Advisor', layout=Layout(width='auto'), style=ButtonStyle(button_colo…"
      ]
     },
     "metadata": {},
     "output_type": "display_data"
    },
    {
     "data": {
      "application/vnd.jupyter.widget-view+json": {
       "model_id": "906555c8d3c74d7087c213a9870cbd32",
       "version_major": 2,
       "version_minor": 0
      },
      "text/plain": [
       "Output()"
      ]
     },
     "metadata": {},
     "output_type": "display_data"
    },
    {
     "data": {
      "application/vnd.jupyter.widget-view+json": {
       "model_id": "09c1b0ce870e44f68f44a2038c35fdcf",
       "version_major": 2,
       "version_minor": 0
      },
      "text/plain": [
       "Output()"
      ]
     },
     "metadata": {},
     "output_type": "display_data"
    }
   ],
   "source": [
    "from IPython.display import Markdown, display\n",
    "from IPython.display import clear_output\n",
    "\n",
    "\n",
    "MC_sim_duration = 252\n",
    "MC_sim_count = 200\n",
    "\n",
    "def printmd(string):\n",
    "    display(Markdown(string))\n",
    "    \n",
    "def menu_sim_duration_eventhandler(change):\n",
    "    set_sim_duration(change.new)\n",
    "    \n",
    "def menu_sim_count_eventhandler(change):\n",
    "    set_sim_count(change.new)\n",
    "\n",
    "output = widgets.Output()\n",
    "plot_output = widgets.Output()\n",
    "output.clear_output()\n",
    "\n",
    "# convert sim_time to days\n",
    "menu_sim_duration = widgets.Dropdown(options =  ['1 year', '2 years', '3 years'])\n",
    "\n",
    "# number of simulations to run\n",
    "menu_sim_count = widgets.Dropdown(options = ['200', '300', '400', '500'])\n",
    "#bounded_num = widgets.BoundedFloatText(min=0, max=100000, value=5, step=1)\n",
    "\n",
    "btn = widgets.Button(description='Run S&P 500 Portfolio Advisor', layout=Layout(width='auto'))\n",
    "btn.style.button_color = 'lightgreen'\n",
    "\n",
    "menu_sim_duration.observe(menu_sim_duration_eventhandler, names='value')\n",
    "menu_sim_count.observe(menu_sim_count_eventhandler, names='value')\n",
    "\n",
    "@output.capture()\n",
    "def btn_eventhandler(obj):\n",
    "    clear_output()\n",
    "    #print('Hello from the {} button!'.format(obj.description))\n",
    "    main()\n",
    "\n",
    "btn.on_click(btn_eventhandler)\n",
    "\n",
    "@output.capture()\n",
    "def set_sim_duration(value):\n",
    "    global MC_sim_duration\n",
    "    if value == '1 years':\n",
    "        MC_sim_duration = 252\n",
    "    elif value == '2 years':\n",
    "        MC_sim_duration = 504\n",
    "    elif value == '3 years':\n",
    "        MC_sim_duration = 756\n",
    "\n",
    "@output.capture()\n",
    "def set_sim_count(value):\n",
    "    global MC_sim_count\n",
    "    MC_sim_count=int(value)\n",
    "\n",
    "printmd(\"## Choose duration for Monte Carlo simulations:\")\n",
    "display(menu_sim_duration)\n",
    "printmd(\"## Choose interations for Monte Carlo simulations:\")\n",
    "\n",
    "display(menu_sim_count)\n",
    "display(btn)\n",
    "\n",
    "display(output)\n",
    "display(plot_output)"
   ]
  },
  {
   "cell_type": "code",
   "execution_count": 41,
   "metadata": {},
   "outputs": [],
   "source": [
    "screened_ticker_list = ['AEE', 'DISCK', 'NEM']"
   ]
  },
  {
   "cell_type": "code",
   "execution_count": 28,
   "metadata": {},
   "outputs": [
    {
     "data": {
      "text/plain": [
       "int"
      ]
     },
     "execution_count": 28,
     "metadata": {},
     "output_type": "execute_result"
    }
   ],
   "source": [
    "type(MC_sim_duration)"
   ]
  },
  {
   "cell_type": "code",
   "execution_count": 34,
   "metadata": {},
   "outputs": [
    {
     "data": {
      "text/plain": [
       "<AxesSubplot:>"
      ]
     },
     "execution_count": 34,
     "metadata": {},
     "output_type": "execute_result"
    },
    {
     "data": {
      "image/png": "[encoded data removed]",
      "text/plain": [
       "<Figure size 720x360 with 1 Axes>"
      ]
     },
     "metadata": {
      "needs_background": "light"
     },
     "output_type": "display_data"
    }
   ],
   "source": [
    "MC_median_df_dict[0].plot(legend=True, figsize=( 10,5),label=str(weights_dict[0]))\n"
   ]
  },
  {
   "cell_type": "code",
   "execution_count": null,
   "metadata": {},
   "outputs": [],
   "source": []
  }
 ],
 "metadata": {
  "colab": {
   "authorship_tag": "ABX9TyOv5Rg0eovcgPOOu//hyU/J",
   "include_colab_link": true,
   "name": "simple-technical-analysis-stock-screener-demo.ipynb",
   "provenance": []
  },
  "kernelspec": {
   "display_name": "Python 3",
   "language": "python",
   "name": "python3"
  },
  "language_info": {
   "codemirror_mode": {
    "name": "ipython",
    "version": 3
   },
   "file_extension": ".py",
   "mimetype": "text/x-python",
   "name": "python",
   "nbconvert_exporter": "python",
   "pygments_lexer": "ipython3",
   "version": "3.7.10"
  }
 },
 "nbformat": 4,
 "nbformat_minor": 4
}
