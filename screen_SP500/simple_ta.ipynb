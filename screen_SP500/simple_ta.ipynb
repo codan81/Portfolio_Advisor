{
 "cells": [
  {
   "cell_type": "code",
   "execution_count": 1,
   "metadata": {
    "id": "t_3iZkcseOYp"
   },
   "outputs": [],
   "source": [
    "#from tqdm import tqdm_notebook, tqdm\n",
    "from tqdm.notebook import tqdm\n",
    "import alpaca_trade_api as tradeapi\n",
    "#from MCForecastTools import MCSimulation\n",
    "from dotenv import load_dotenv\n",
    "from datetime import datetime\n",
    "from pathlib import Path\n",
    "from time import sleep\n",
    "import pandas as pd\n",
    "import os"
   ]
  },
  {
   "cell_type": "code",
   "execution_count": 2,
   "metadata": {
    "id": "FUUL-MhDd_xd"
   },
   "outputs": [],
   "source": [
    "# Alternative?  https://stackoverflow.com/questions/48775841/pandas-ema-not-matching-the-stocks-ema\n",
    "# ta.ema shown at the end of that page.  Is sorting index necessary?\n",
    "#import pandas_ta as ta\n",
    "#\n",
    "#data[\"EMA20\"] = ta.ema(df2[\"Close\"], length=20)\n",
    "\n",
    "def add_EMA(price, day):\n",
    "    return price.ewm(span=day).mean()\n",
    "\n",
    "# function to check for EMA crossing\n",
    "def check_EMA_crossing(df):\n",
    "    # condition 1: EMA18 is higher than EMA50 at the last trading day\n",
    "    cond_1 = df.iloc[-1]['EMA18'] > df.iloc[-1]['EMA50']\n",
    "    # condition 2: EMA18 is lower than EMA50 the previous day\n",
    "    cond_2 = df.iloc[-2]['EMA18'] < df.iloc[-2]['EMA50']\n",
    "    # condition 3: to filter out stocks with less than 50 candles\n",
    "    cond_3 = len(df.index) > 50 \n",
    "    # will return True if all 3 conditions are met\n",
    "    return (cond_1 and cond_2 and cond_3)"
   ]
  },
  {
   "cell_type": "code",
   "execution_count": 3,
   "metadata": {
    "id": "FUUL-MhDd_xd"
   },
   "outputs": [
    {
     "data": {
      "text/plain": [
       "str"
      ]
     },
     "metadata": {},
     "output_type": "display_data"
    },
    {
     "data": {
      "text/plain": [
       "str"
      ]
     },
     "metadata": {},
     "output_type": "display_data"
    }
   ],
   "source": [
    "load_dotenv()\n",
    "\n",
    "sp500_tickers_df = pd.read_csv(Path(\"dataset/symbols.csv\"), header=None)\n",
    "#display(sp500_tickers_df.head(3))\n",
    "#display(sp500_tickers_df.tail(3))\n",
    "sp500_tickers = sp500_tickers_df.loc[:,0]\n",
    "       \n",
    "# Setting the variables for the Alpaca API and secret keys\n",
    "alpaca_api_key = os.getenv('ALPACA_API_KEY')\n",
    "alpaca_api_secret_key = os.getenv('ALPACA_SECRET_KEY')\n",
    "\n",
    "display(type(alpaca_api_key))\n",
    "display(type(alpaca_api_secret_key))\n",
    "\n",
    "# Create the Alpaca tradeapi.REST object\n",
    "alpaca_api = tradeapi.REST(alpaca_api_key, alpaca_api_secret_key, api_version = \"v2\")\n",
    "\n",
    "# Set start and end dates of 10 years back from your current date\n",
    "timeframe=\"1D\"\n",
    "today=pd.Timestamp.now()\n",
    "start_date = pd.Timestamp(today - pd.Timedelta(days=365), tz=\"America/New_York\").isoformat()\n",
    "end_date = pd.Timestamp(today).isoformat()\n",
    "max_rows=365"
   ]
  },
  {
   "cell_type": "code",
   "execution_count": 4,
   "metadata": {
    "id": "FUUL-MhDd_xd"
   },
   "outputs": [],
   "source": [
    "def get_alpaca_price(ticker):\n",
    "    ticker_df=alpaca_api.get_barset(\n",
    "    ticker,\n",
    "    timeframe,\n",
    "    start=start_date,\n",
    "    end=end_date,\n",
    "    limit=max_rows\n",
    "    ).df\n",
    "    \n",
    "    return (ticker_df)"
   ]
  },
  {
   "cell_type": "code",
   "execution_count": 5,
   "metadata": {
    "id": "FUUL-MhDd_xd"
   },
   "outputs": [],
   "source": [
    "#price_chart_df = get_alpaca_price('DISK')\n",
    "#price_chart_df.head()\n",
    "##close_df = price_chart_df.xs('close',level=1,axis=1)\n",
    "#close_df = pd.DataFrame(columns = ['close'])\n",
    "#close_df['close'] = price_chart_df['DISK']['close']\n",
    "#close_df.head()\n",
    "#display(close_df['close'])"
   ]
  },
  {
   "cell_type": "code",
   "execution_count": null,
   "metadata": {
    "id": "FUUL-MhDd_xd"
   },
   "outputs": [
    {
     "data": {
      "application/vnd.jupyter.widget-view+json": {
       "model_id": "c8190796709045d3afa6274ecd2f41ca",
       "version_major": 2,
       "version_minor": 0
      },
      "text/plain": [
       "  0%|          | 0/505 [00:00<?, ?it/s]"
      ]
     },
     "metadata": {},
     "output_type": "display_data"
    }
   ],
   "source": [
    "# for loop is throttled with sleep() to keep alpacas calls under 200/minute.\n",
    "\n",
    "# Alternative design would be getting all 500 tickers in one call to get_barset(),\n",
    "# and extracting the each_stock 'close' column in this loop\n",
    "\n",
    "# Preliminary ticker list after screening based on EMA\n",
    "screened_list = [] \n",
    "\n",
    "stock_list = sp500_tickers\n",
    "#for each_stock in tqdm_notebook(stock_list):\n",
    "for each_stock in tqdm(stock_list):\n",
    "    #print(each_stock)\n",
    "    # Step 1: get stock price for each stock\n",
    "    price_chart_df = get_alpaca_price(each_stock)\n",
    "    price_chart_df.head()\n",
    "    close_df = pd.DataFrame(columns = ['close'])\n",
    "    close_df['close'] = price_chart_df[each_stock]['close']\n",
    "\n",
    "    # Step 2: add technical indicators (in this case EMA)\n",
    "    close_df['EMA18']=add_EMA(close_df['close'],18)\n",
    "    close_df['EMA50']=add_EMA(close_df['close'],50)\n",
    "    close_df['EMA100']=add_EMA(close_df['close'],100)\n",
    "    # if all 3 conditions are met, add stock into screened list\n",
    "    if check_EMA_crossing(close_df):\n",
    "      screened_list.append(each_stock)\n",
    "    sleep(0.2)\n",
    "\n",
    "# 10-year history will be pulled for each ticker in then list, then run Monte Carlo, and other ta (beta, sharpes, etc)\n",
    "# return (screened_list)\n",
    "print(screened_list)"
   ]
  },
  {
   "cell_type": "code",
   "execution_count": null,
   "metadata": {},
   "outputs": [],
   "source": []
  },
  {
   "cell_type": "code",
   "execution_count": null,
   "metadata": {},
   "outputs": [],
   "source": []
  }
 ],
 "metadata": {
  "colab": {
   "authorship_tag": "ABX9TyOv5Rg0eovcgPOOu//hyU/J",
   "include_colab_link": true,
   "name": "simple-technical-analysis-stock-screener-demo.ipynb",
   "provenance": []
  },
  "kernelspec": {
   "display_name": "Python 3",
   "language": "python",
   "name": "python3"
  },
  "language_info": {
   "codemirror_mode": {
    "name": "ipython",
    "version": 3
   },
   "file_extension": ".py",
   "mimetype": "text/x-python",
   "name": "python",
   "nbconvert_exporter": "python",
   "pygments_lexer": "ipython3",
   "version": "3.7.10"
  }
 },
 "nbformat": 4,
 "nbformat_minor": 4
}
