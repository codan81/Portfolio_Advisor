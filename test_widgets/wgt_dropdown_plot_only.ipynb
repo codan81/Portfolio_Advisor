{
 "cells": [
  {
   "cell_type": "code",
   "execution_count": 11,
   "id": "49c97012-e745-4d8c-a470-79a1a7d27bef",
   "metadata": {},
   "outputs": [
    {
     "data": {
      "text/plain": [
       "pandas.core.frame.DataFrame"
      ]
     },
     "execution_count": 11,
     "metadata": {},
     "output_type": "execute_result"
    }
   ],
   "source": [
    "\n",
    "import seaborn as sns\n",
    "import matplotlib.pyplot as plt\n",
    "import pandas as pd\n",
    "import numpy as np\n",
    "import ipywidgets as widgets\n",
    "from IPython.display import display\n",
    "import requests\n",
    "import io\n",
    "\n",
    "url = \"https://data.london.gov.uk/download/number-international-visitors-london/b1e0f953-4c8a-4b45-95f5-e0d143d5641e/international-visitors-london-raw.csv\"\n",
    "\n",
    "# The intermediat request() and StringIO() are needed to decode characters like 0xa3, British pound\n",
    "s = requests.get(url).content\n",
    "df_london = pd.read_csv(io.StringIO(s.decode(\"latin-1\")))\n",
    "\n",
    "# Use subset of data for testing\n",
    "df_london = df_london.sample(250)\n",
    "#df_london.info()\n",
    "type(df_london)"
   ]
  },
  {
   "cell_type": "code",
   "execution_count": 12,
   "id": "d6500037-3694-4a74-ba63-d301fe5654b9",
   "metadata": {},
   "outputs": [],
   "source": [
    "ALL = 'ALL'\n",
    "def unique_sorted_values_plus_ALL(array):\n",
    "    unique = array.unique().tolist()\n",
    "    unique.sort()\n",
    "    unique.insert(0, ALL)\n",
    "    return unique\n",
    "\n",
    "def colour_ge_value(value, comparison):\n",
    "    if value >= comparison:\n",
    "        return 'color: red'\n",
    "    else:\n",
    "        return 'color: black'"
   ]
  },
  {
   "cell_type": "code",
   "execution_count": 13,
   "id": "30a32c40-fed0-40e4-8ef1-1e29598439e1",
   "metadata": {},
   "outputs": [
    {
     "data": {
      "application/vnd.jupyter.widget-view+json": {
       "model_id": "f8cc6145b0734d04a2e77b72de197e3e",
       "version_major": 2,
       "version_minor": 0
      },
      "text/plain": [
       "Dropdown(options=('ALL', '2002', '2003', '2004', '2005', '2006', '2007', '2008', '2009', '2010', '2011', '2012…"
      ]
     },
     "metadata": {},
     "output_type": "display_data"
    },
    {
     "data": {
      "application/vnd.jupyter.widget-view+json": {
       "model_id": "6cba1d34454540cf8c837b5c0038525b",
       "version_major": 2,
       "version_minor": 0
      },
      "text/plain": [
       "Dropdown(options=('ALL', 'Business', 'Holiday', 'Miscellaneous', 'Study', 'VFR'), value='ALL')"
      ]
     },
     "metadata": {},
     "output_type": "display_data"
    },
    {
     "data": {
      "application/vnd.jupyter.widget-view+json": {
       "model_id": "78b02295c29046c5a75e7902d786c3fa",
       "version_major": 2,
       "version_minor": 0
      },
      "text/plain": [
       "BoundedFloatText(value=5.0, max=100000.0, step=1.0)"
      ]
     },
     "metadata": {},
     "output_type": "display_data"
    },
    {
     "data": {
      "application/vnd.jupyter.widget-view+json": {
       "model_id": "85cbf49d8d2349b1bcffb5a5de9f5522",
       "version_major": 2,
       "version_minor": 0
      },
      "text/plain": [
       "Output()"
      ]
     },
     "metadata": {},
     "output_type": "display_data"
    },
    {
     "data": {
      "application/vnd.jupyter.widget-view+json": {
       "model_id": "a6be25d939c6421289124dc7cae346b7",
       "version_major": 2,
       "version_minor": 0
      },
      "text/plain": [
       "Output()"
      ]
     },
     "metadata": {},
     "output_type": "display_data"
    }
   ],
   "source": [
    "output = widgets.Output()\n",
    "plot_output = widgets.Output()\n",
    "\n",
    "dropdown_year = widgets.Dropdown(options =    unique_sorted_values_plus_ALL(df_london.year))\n",
    "dropdown_purpose = widgets.Dropdown(options = unique_sorted_values_plus_ALL(df_london.purpose))\n",
    "bounded_num = widgets.BoundedFloatText(min=0, max=100000, value=5, step=1)\n",
    "\n",
    "def common_filtering(year, purpose, num):\n",
    "    output.clear_output()\n",
    "    plot_output.clear_output()\n",
    "    \n",
    "    if (year == ALL) & (purpose == ALL):\n",
    "        common_filter = df_london\n",
    "    elif (year == ALL):\n",
    "        common_filter = df_london[df_london.purpose == purpose]\n",
    "    elif (purpose == ALL):\n",
    "        common_filter = df_london[df_london.year == year]\n",
    "    else:\n",
    "        common_filter = df_london[(df_london.year == year) & \n",
    "                                  (df_london.purpose == purpose)]\n",
    "\n",
    "    with output:\n",
    "        display(common_filter.style.applymap(\n",
    "                    lambda x: colour_ge_value(x, num),\n",
    "                    subset=['Visits (000s)','Spend (£m)', 'Nights (000s)']))\n",
    "\n",
    "    with plot_output:\n",
    "        sns.kdeplot(common_filter['Visits (000s)'], shade=True)\n",
    "        plt.show()\n",
    "        \n",
    "\n",
    "def bounded_num_eventhandler(change):\n",
    "    common_filtering(dropdown_year.value, dropdown_purpose.value, change.new)\n",
    "    \n",
    "def dropdown_year_eventhandler(change):\n",
    "    common_filtering(change.new, dropdown_purpose.value, bounded_num.value)\n",
    "\n",
    "def dropdown_purpose_eventhandler(change):\n",
    "    common_filtering(dropdown_year.value, change.new, bounded_num.value)\n",
    "\n",
    "dropdown_year.observe(dropdown_year_eventhandler, names='value')\n",
    "dropdown_purpose.observe(dropdown_purpose_eventhandler, names='value')\n",
    "bounded_num.observe(bounded_num_eventhandler, names='value')\n",
    "\n",
    "display(dropdown_year)\n",
    "display(dropdown_purpose)\n",
    "display(bounded_num)\n",
    "display(output)\n",
    "display(plot_output)\n"
   ]
  },
  {
   "cell_type": "code",
   "execution_count": null,
   "id": "2f3bab49-0b62-4893-8cba-31f266fcc88d",
   "metadata": {},
   "outputs": [],
   "source": []
  }
 ],
 "metadata": {
  "kernelspec": {
   "display_name": "dev",
   "language": "python",
   "name": "dev"
  },
  "language_info": {
   "codemirror_mode": {
    "name": "ipython",
    "version": 3
   },
   "file_extension": ".py",
   "mimetype": "text/x-python",
   "name": "python",
   "nbconvert_exporter": "python",
   "pygments_lexer": "ipython3",
   "version": "3.7.10"
  }
 },
 "nbformat": 4,
 "nbformat_minor": 5
}
