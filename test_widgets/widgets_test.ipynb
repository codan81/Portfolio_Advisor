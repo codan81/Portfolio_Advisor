{
 "cells": [
  {
   "cell_type": "code",
   "execution_count": 23,
   "id": "a3871dab-49d1-4e90-aacf-0d4a34b229c1",
   "metadata": {},
   "outputs": [],
   "source": [
    "import pandas as pd\n",
    "from ipywidgets import widgets, interact, interactive\n",
    "%matplotlib inline"
   ]
  },
  {
   "cell_type": "code",
   "execution_count": 24,
   "id": "25896b40-f9d7-48e0-b78e-8c1c55d90780",
   "metadata": {},
   "outputs": [
    {
     "data": {
      "application/vnd.jupyter.widget-view+json": {
       "model_id": "18f1954f6a2244feba2688c3193b697b",
       "version_major": 2,
       "version_minor": 0
      },
      "text/plain": [
       "interactive(children=(IntSlider(value=10, description='x', max=30, min=-10), Output()), _dom_classes=('widget-…"
      ]
     },
     "metadata": {},
     "output_type": "display_data"
    },
    {
     "data": {
      "text/plain": [
       "<function __main__.f(x)>"
      ]
     },
     "execution_count": 24,
     "metadata": {},
     "output_type": "execute_result"
    }
   ],
   "source": [
    "# Create text widget for output\n",
    "output_slider_variable = widgets.Text()\n",
    "\n",
    "# Define function to bind value of the input to the output variable \n",
    "def f(x):\n",
    "    output_slider_variable.value = str(x)\n",
    "\n",
    "# Create input slider with default value = 10    \n",
    "interact(f, x=10)"
   ]
  },
  {
   "cell_type": "code",
   "execution_count": 26,
   "id": "7be71646-c3ca-4069-ac4c-d5b8179debf4",
   "metadata": {},
   "outputs": [
    {
     "data": {
      "application/vnd.jupyter.widget-view+json": {
       "model_id": "6effa77388d7423dbd8087bddd062796",
       "version_major": 2,
       "version_minor": 0
      },
      "text/plain": [
       "Text(value='11')"
      ]
     },
     "metadata": {},
     "output_type": "display_data"
    }
   ],
   "source": [
    "output_slider_variable"
   ]
  },
  {
   "cell_type": "code",
   "execution_count": 27,
   "id": "a500e5f3-de8e-442f-9cd6-0f2afcd19b8a",
   "metadata": {},
   "outputs": [
    {
     "data": {
      "text/html": [
       "<div>\n",
       "<style scoped>\n",
       "    .dataframe tbody tr th:only-of-type {\n",
       "        vertical-align: middle;\n",
       "    }\n",
       "\n",
       "    .dataframe tbody tr th {\n",
       "        vertical-align: top;\n",
       "    }\n",
       "\n",
       "    .dataframe thead th {\n",
       "        text-align: right;\n",
       "    }\n",
       "</style>\n",
       "<table border=\"1\" class=\"dataframe\">\n",
       "  <thead>\n",
       "    <tr style=\"text-align: right;\">\n",
       "      <th></th>\n",
       "      <th>close</th>\n",
       "    </tr>\n",
       "  </thead>\n",
       "  <tbody>\n",
       "    <tr>\n",
       "      <th>0</th>\n",
       "      <td>11.25</td>\n",
       "    </tr>\n",
       "    <tr>\n",
       "      <th>1</th>\n",
       "      <td>11.98</td>\n",
       "    </tr>\n",
       "    <tr>\n",
       "      <th>2</th>\n",
       "      <td>10.74</td>\n",
       "    </tr>\n",
       "    <tr>\n",
       "      <th>3</th>\n",
       "      <td>11.16</td>\n",
       "    </tr>\n",
       "    <tr>\n",
       "      <th>4</th>\n",
       "      <td>12.35</td>\n",
       "    </tr>\n",
       "  </tbody>\n",
       "</table>\n",
       "</div>"
      ],
      "text/plain": [
       "   close\n",
       "0  11.25\n",
       "1  11.98\n",
       "2  10.74\n",
       "3  11.16\n",
       "4  12.35"
      ]
     },
     "execution_count": 27,
     "metadata": {},
     "output_type": "execute_result"
    }
   ],
   "source": [
    "stock_abc = pd.DataFrame({'close' : [11.25, 11.98, 10.74, 11.16, 12.35, 12.87, 13.03, 13.14, 13.37, 12.99]})\n",
    "\n",
    "stock_abc.head()"
   ]
  },
  {
   "cell_type": "code",
   "execution_count": null,
   "id": "7619c559-fc27-4f58-9768-dd58602b137d",
   "metadata": {},
   "outputs": [],
   "source": []
  },
  {
   "cell_type": "code",
   "execution_count": 29,
   "id": "b131e678-1372-49e7-912d-41dcbb9e6b8c",
   "metadata": {},
   "outputs": [
    {
     "data": {
      "text/plain": [
       "11"
      ]
     },
     "execution_count": 29,
     "metadata": {},
     "output_type": "execute_result"
    }
   ],
   "source": [
    "slider_val = int(output_slider_variable.value)\n",
    "slider_val"
   ]
  },
  {
   "cell_type": "code",
   "execution_count": 30,
   "id": "5dbe47d6-98ee-40be-8e5e-04c2ee07b496",
   "metadata": {},
   "outputs": [
    {
     "data": {
      "text/html": [
       "<div>\n",
       "<style scoped>\n",
       "    .dataframe tbody tr th:only-of-type {\n",
       "        vertical-align: middle;\n",
       "    }\n",
       "\n",
       "    .dataframe tbody tr th {\n",
       "        vertical-align: top;\n",
       "    }\n",
       "\n",
       "    .dataframe thead th {\n",
       "        text-align: right;\n",
       "    }\n",
       "</style>\n",
       "<table border=\"1\" class=\"dataframe\">\n",
       "  <thead>\n",
       "    <tr style=\"text-align: right;\">\n",
       "      <th></th>\n",
       "      <th>close</th>\n",
       "    </tr>\n",
       "  </thead>\n",
       "  <tbody>\n",
       "    <tr>\n",
       "      <th>0</th>\n",
       "      <td>123.75</td>\n",
       "    </tr>\n",
       "    <tr>\n",
       "      <th>1</th>\n",
       "      <td>131.78</td>\n",
       "    </tr>\n",
       "    <tr>\n",
       "      <th>2</th>\n",
       "      <td>118.14</td>\n",
       "    </tr>\n",
       "    <tr>\n",
       "      <th>3</th>\n",
       "      <td>122.76</td>\n",
       "    </tr>\n",
       "    <tr>\n",
       "      <th>4</th>\n",
       "      <td>135.85</td>\n",
       "    </tr>\n",
       "  </tbody>\n",
       "</table>\n",
       "</div>"
      ],
      "text/plain": [
       "    close\n",
       "0  123.75\n",
       "1  131.78\n",
       "2  118.14\n",
       "3  122.76\n",
       "4  135.85"
      ]
     },
     "execution_count": 30,
     "metadata": {},
     "output_type": "execute_result"
    }
   ],
   "source": [
    "(stock_abc * slider_val).head()"
   ]
  },
  {
   "cell_type": "code",
   "execution_count": 32,
   "id": "888b61e9-14b9-4f31-b6bb-1da6b7c0c1b2",
   "metadata": {},
   "outputs": [
    {
     "data": {
      "application/vnd.jupyter.widget-view+json": {
       "model_id": "9396963898cc4f7a92a2b91b742dad06",
       "version_major": 2,
       "version_minor": 0
      },
      "text/plain": [
       "interactive(children=(IntSlider(value=3, description='a', max=5, min=1), IntSlider(value=8, description='b', m…"
      ]
     },
     "metadata": {},
     "output_type": "display_data"
    }
   ],
   "source": [
    "# Define any function\n",
    "def f(a, b):\n",
    "    return a + b\n",
    "\n",
    "# Create sliders using interactive\n",
    "my_result = interactive(f, a=(1,5), b=(6,10))\n",
    "display(my_result)"
   ]
  },
  {
   "cell_type": "code",
   "execution_count": 33,
   "id": "a75086c1-3fca-4906-8caf-0447354e7741",
   "metadata": {},
   "outputs": [
    {
     "data": {
      "text/plain": [
       "3"
      ]
     },
     "metadata": {},
     "output_type": "display_data"
    },
    {
     "data": {
      "text/plain": [
       "8"
      ]
     },
     "execution_count": 33,
     "metadata": {},
     "output_type": "execute_result"
    }
   ],
   "source": [
    "my_result.result\n",
    "display(my_result.children[0].value)\n",
    "my_result.children[1].value"
   ]
  },
  {
   "cell_type": "code",
   "execution_count": 34,
   "id": "f949a6da-78df-4e26-b9d9-5143969d68d9",
   "metadata": {},
   "outputs": [
    {
     "data": {
      "application/vnd.jupyter.widget-view+json": {
       "model_id": "ce2a6c9d0a5841e9872155284ed4510f",
       "version_major": 2,
       "version_minor": 0
      },
      "text/plain": [
       "Tab(children=(IntSlider(value=0, description='hi'), IntSlider(value=0, description='hi'), IntSlider(value=0, d…"
      ]
     },
     "metadata": {},
     "output_type": "display_data"
    }
   ],
   "source": [
    "from ipywidgets import *\n",
    "names = ['General', 'Representation', 'Preference', 'Theme', 'Extra', 'Help']\n",
    "tab = Tab([IntSlider(description='hi') for _ in names])\n",
    "[tab.set_title(i, title) for i, title in enumerate(names)]\n",
    "tab"
   ]
  },
  {
   "cell_type": "code",
   "execution_count": 37,
   "id": "e3ab647c-3ca9-4312-985b-0903ea133013",
   "metadata": {},
   "outputs": [
    {
     "name": "stdout",
     "output_type": "stream",
     "text": [
      "General: 0\n",
      "Representation: 20\n",
      "preference: 0\n",
      "Theme: 0\n"
     ]
    }
   ],
   "source": [
    "print(f\"General: {tab.children[0].value}\")\n",
    "print(f\"Representation: {tab.children[1].value}\")\n",
    "print(f\"preference: {tab.children[2].value}\")\n",
    "print(f\"Theme: {tab.children[3].value}\")\n",
    "    "
   ]
  },
  {
   "cell_type": "code",
   "execution_count": 38,
   "id": "0367453e-2745-440f-9023-cf5313ad9274",
   "metadata": {},
   "outputs": [
    {
     "data": {
      "application/vnd.jupyter.widget-view+json": {
       "model_id": "ce2a6c9d0a5841e9872155284ed4510f",
       "version_major": 2,
       "version_minor": 0
      },
      "text/plain": [
       "Tab(children=(IntSlider(value=0, description='hi'), IntSlider(value=20, description='hi'), IntSlider(value=0, …"
      ]
     },
     "metadata": {},
     "output_type": "display_data"
    }
   ],
   "source": [
    "# different syntax, same result\n",
    "tab_contents = ['General', 'Representation', 'Preference', 'Theme', 'Extra', 'Help']\n",
    "for title, (index, _) in zip(tab_contents, enumerate(tab.children)):\n",
    "    tab.set_title(index, title)\n",
    "tab"
   ]
  },
  {
   "cell_type": "code",
   "execution_count": 39,
   "id": "559e74fb-a439-4d06-b606-68c1f5e37847",
   "metadata": {},
   "outputs": [
    {
     "name": "stdout",
     "output_type": "stream",
     "text": [
      "General: 0\n",
      "Representation: 20\n",
      "preference: 0\n",
      "Theme: 0\n"
     ]
    }
   ],
   "source": [
    "print(f\"General: {tab.children[0].value}\")\n",
    "print(f\"Representation: {tab.children[1].value}\")\n",
    "print(f\"preference: {tab.children[2].value}\")\n",
    "print(f\"Theme: {tab.children[3].value}\")"
   ]
  },
  {
   "cell_type": "code",
   "execution_count": 40,
   "id": "265d784c-bc45-4b8f-bb94-f27d0b227d0d",
   "metadata": {},
   "outputs": [
    {
     "data": {
      "application/vnd.jupyter.widget-view+json": {
       "model_id": "a19743b9cb9240f298cb2340c69889e3",
       "version_major": 2,
       "version_minor": 0
      },
      "text/plain": [
       "Button(description='(50% width, 80px height) button', layout=Layout(height='80px', width='50%'), style=ButtonS…"
      ]
     },
     "metadata": {},
     "output_type": "display_data"
    }
   ],
   "source": [
    "b = Button(description='(50% width, 80px height) button',\n",
    "           layout=Layout(width='50%', height='80px'))\n",
    "b"
   ]
  },
  {
   "cell_type": "code",
   "execution_count": null,
   "id": "04d5044b-5d7e-499f-93aa-c8b59aae9556",
   "metadata": {},
   "outputs": [],
   "source": []
  },
  {
   "cell_type": "code",
   "execution_count": 41,
   "id": "db6b3ee6-18eb-46b7-8441-55647543b7c0",
   "metadata": {},
   "outputs": [
    {
     "data": {
      "application/vnd.jupyter.widget-view+json": {
       "model_id": "c37c3bd298d3463d83fe16508e74d731",
       "version_major": 2,
       "version_minor": 0
      },
      "text/plain": [
       "HBox(children=(Label(value='A too long description'), IntSlider(value=0)))"
      ]
     },
     "metadata": {},
     "output_type": "display_data"
    }
   ],
   "source": [
    "box = HBox([Label('A too long description'), IntSlider()])\n",
    "display(box)"
   ]
  },
  {
   "cell_type": "code",
   "execution_count": 42,
   "id": "cc704927-8f64-443c-8f40-ed17c7f15b71",
   "metadata": {},
   "outputs": [
    {
     "data": {
      "application/vnd.jupyter.widget-view+json": {
       "model_id": "3c06a9ead59f47a2a414f8f61bc61faa",
       "version_major": 2,
       "version_minor": 0
      },
      "text/plain": [
       "IntSlider(value=0)"
      ]
     },
     "metadata": {},
     "output_type": "display_data"
    }
   ],
   "source": [
    "box.children[1]"
   ]
  },
  {
   "cell_type": "code",
   "execution_count": 18,
   "id": "c5e359b6-2981-4024-b7d2-18fd2d2776ef",
   "metadata": {},
   "outputs": [
    {
     "data": {
      "application/vnd.jupyter.widget-view+json": {
       "model_id": "80feaf44840846cd8b6a54689f5dc790",
       "version_major": 2,
       "version_minor": 0
      },
      "text/plain": [
       "HBox(children=(VBox(children=(Button(description='correct', style=ButtonStyle()), Button(description='horse', …"
      ]
     },
     "metadata": {},
     "output_type": "display_data"
    }
   ],
   "source": [
    "# How to know if button pressed?\n",
    "\n",
    "words = ['correct', 'horse', 'battery', 'staple']\n",
    "items = [Button(description=w) for w in words]\n",
    "left_box = VBox([items[0], items[1]])\n",
    "right_box = VBox([items[2], items[3]])\n",
    "buttons = HBox([left_box, right_box])\n",
    "display(buttons)"
   ]
  },
  {
   "cell_type": "code",
   "execution_count": null,
   "id": "27741791-26fd-4bbb-896f-a3b752eb2c38",
   "metadata": {},
   "outputs": [],
   "source": []
  },
  {
   "cell_type": "code",
   "execution_count": 19,
   "id": "10e626f0-cd09-47ea-96c7-d7c9659a802d",
   "metadata": {},
   "outputs": [
    {
     "data": {
      "application/vnd.jupyter.widget-view+json": {
       "model_id": "8a84128cf89d4d3b830da1e74c7cfe22",
       "version_major": 2,
       "version_minor": 0
      },
      "text/plain": [
       "VBox(children=(RadioButtons(options=('The color', 'The length', 'The slope'), value=None),))"
      ]
     },
     "metadata": {},
     "output_type": "display_data"
    },
    {
     "data": {
      "application/vnd.jupyter.widget-view+json": {
       "model_id": "9aa3f5076e1449cebe4f15f56c6899af",
       "version_major": 2,
       "version_minor": 0
      },
      "text/plain": [
       "Output()"
      ]
     },
     "metadata": {},
     "output_type": "display_data"
    }
   ],
   "source": [
    "# https://stackoverflow.com/questions/61339771/ipywidgets-how-to-evaluate-answers-on-form\n",
    "\n",
    "# Instead of looking for a specific value, this could be used to make a choice\n",
    "# and the function would set a global variable that could be used elsewhere.\n",
    "\n",
    "def evaluate(a):\n",
    "    if (a != None):\n",
    "        if (a == \"The slope\"):\n",
    "            print(\"Correct!\")\n",
    "        else:\n",
    "            print(\"Try again...\")\n",
    "    else:\n",
    "        print(\"Waiting for an answer\")\n",
    "\n",
    "\n",
    "selector = widgets.RadioButtons(\n",
    "    options=['The color', 'The length', 'The slope'],\n",
    "    value=None,\n",
    "    description='',\n",
    "    disabled=False\n",
    ")\n",
    "\n",
    "ui = widgets.VBox([selector])\n",
    "out = widgets.interactive_output(evaluate, {'a': selector})\n",
    "\n",
    "display(ui, out)"
   ]
  },
  {
   "cell_type": "code",
   "execution_count": 22,
   "id": "cf00b1f4-b234-4220-9bdc-b4d9c232f9ae",
   "metadata": {},
   "outputs": [
    {
     "data": {
      "application/vnd.jupyter.widget-view+json": {
       "model_id": "40870a6549a94c228d1b589151687109",
       "version_major": 2,
       "version_minor": 0
      },
      "text/plain": [
       "Button(description='Medium', style=ButtonStyle())"
      ]
     },
     "metadata": {},
     "output_type": "display_data"
    },
    {
     "data": {
      "application/vnd.jupyter.widget-view+json": {
       "model_id": "8a378fe166bb42988f3dda3f30be39e0",
       "version_major": 2,
       "version_minor": 0
      },
      "text/plain": [
       "Output()"
      ]
     },
     "metadata": {},
     "output_type": "display_data"
    }
   ],
   "source": [
    "# https://towardsdatascience.com/bring-your-jupyter-notebook-to-life-with-interactive-widgets-bc12e03f0916\n",
    "\n",
    "btn = widgets.Button(description='Medium')\n",
    "display(btn)\n",
    "output = widgets.Output()\n",
    "\n",
    "@output.capture()\n",
    "def btn_eventhandler(obj):\n",
    "    print('Hello from the {} button!'.format(obj.description))\n",
    "    \n",
    "btn.on_click(btn_eventhandler)\n",
    "display(output)"
   ]
  },
  {
   "cell_type": "code",
   "execution_count": null,
   "id": "61027846-2c7c-49ea-bff1-9acc8d4b71ba",
   "metadata": {},
   "outputs": [],
   "source": []
  }
 ],
 "metadata": {
  "kernelspec": {
   "display_name": "dev",
   "language": "python",
   "name": "dev"
  },
  "language_info": {
   "codemirror_mode": {
    "name": "ipython",
    "version": 3
   },
   "file_extension": ".py",
   "mimetype": "text/x-python",
   "name": "python",
   "nbconvert_exporter": "python",
   "pygments_lexer": "ipython3",
   "version": "3.7.10"
  }
 },
 "nbformat": 4,
 "nbformat_minor": 5
}
